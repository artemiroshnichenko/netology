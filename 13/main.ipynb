{
 "metadata": {
  "language_info": {
   "codemirror_mode": {
    "name": "ipython",
    "version": 3
   },
   "file_extension": ".py",
   "mimetype": "text/x-python",
   "name": "python",
   "nbconvert_exporter": "python",
   "pygments_lexer": "ipython3",
   "version": "3.9.1-final"
  },
  "orig_nbformat": 2,
  "kernelspec": {
   "name": "python391jvsc74a57bd0397704579725e15f5c7cb49fe5f0341eb7531c82d19f2c29d197e8b64ab5776b",
   "display_name": "Python 3.9.1 64-bit"
  },
  "metadata": {
   "interpreter": {
    "hash": "397704579725e15f5c7cb49fe5f0341eb7531c82d19f2c29d197e8b64ab5776b"
   }
  }
 },
 "nbformat": 4,
 "nbformat_minor": 2,
 "cells": [
  {
   "cell_type": "code",
   "execution_count": 2,
   "metadata": {},
   "outputs": [],
   "source": [
    "import requests\n",
    "from bs4 import BeautifulSoup\n",
    "import pandas as pd\n",
    "import time"
   ]
  },
  {
   "cell_type": "code",
   "execution_count": 3,
   "metadata": {},
   "outputs": [],
   "source": [
    "KEYWORDS = ['python', 'парсинг', 'ПО', 'XCOM']\n",
    "res = requests.get('https://habr.com/ru/all/')"
   ]
  },
  {
   "cell_type": "code",
   "execution_count": 4,
   "metadata": {
    "tags": []
   },
   "outputs": [],
   "source": [
    "def get_post(post, KEYWORDS):\n",
    "    re = pd.DataFrame()\n",
    "    for result in post:\n",
    "        link =result.find('a', class_='post__title_link').get('href')\n",
    "        title = result.find('a', class_='post__title_link').text\n",
    "        time = result.find('span', class_='post__time').text\n",
    "        for i in KEYWORDS:\n",
    "            if i in title: \n",
    "                re = re.append({'дата':time,'заголовок':title,'ссылка':link}, ignore_index=True)\n",
    "    return re"
   ]
  },
  {
   "cell_type": "code",
   "execution_count": 5,
   "metadata": {
    "tags": []
   },
   "outputs": [
    {
     "output_type": "execute_result",
     "data": {
      "text/plain": [
       "                     дата                                          заголовок  \\\n",
       "0  19 апреля 2021 в 18:32  Конгрессмены попросили президента США запретит...   \n",
       "0  18 апреля 2021 в 21:08  FOSS News №66 – дайджест материалов о свободно...   \n",
       "0  17 апреля 2021 в 19:10  Почему античитерское ПО блокирует инструменты ...   \n",
       "0  16 апреля 2021 в 01:51  Сочиняя ПО: Почему стоит изучать ФП на JavaScr...   \n",
       "0  15 апреля 2021 в 08:01       Проблемы с производительностью в игре XCOM 2   \n",
       "0  11 апреля 2021 в 20:41  FOSS News №65 – дайджест материалов о свободно...   \n",
       "0   9 апреля 2021 в 13:07  14 самых вдохновляющих статей о тестировании П...   \n",
       "0   7 апреля 2021 в 12:19  Альтернативное собеседование на позицию разраб...   \n",
       "0   6 апреля 2021 в 11:47  Программирование голосом. Передовые рубежи раз...   \n",
       "0   4 апреля 2021 в 21:27  FOSS News №64 – дайджест материалов о свободно...   \n",
       "\n",
       "                                              ссылка  \n",
       "0  https://habr.com/ru/company/selectel/blog/553164/  \n",
       "0                   https://habr.com/ru/post/553086/  \n",
       "0  https://habr.com/ru/company/skillfactory/blog/...  \n",
       "0                   https://habr.com/ru/post/552674/  \n",
       "0    https://habr.com/ru/company/gaijin/blog/552484/  \n",
       "0                   https://habr.com/ru/post/551870/  \n",
       "0      https://habr.com/ru/company/otus/blog/551266/  \n",
       "0                   https://habr.com/ru/post/551202/  \n",
       "0     https://habr.com/ru/company/ruvds/blog/550486/  \n",
       "0                   https://habr.com/ru/post/550640/  "
      ],
      "text/html": "<div>\n<style scoped>\n    .dataframe tbody tr th:only-of-type {\n        vertical-align: middle;\n    }\n\n    .dataframe tbody tr th {\n        vertical-align: top;\n    }\n\n    .dataframe thead th {\n        text-align: right;\n    }\n</style>\n<table border=\"1\" class=\"dataframe\">\n  <thead>\n    <tr style=\"text-align: right;\">\n      <th></th>\n      <th>дата</th>\n      <th>заголовок</th>\n      <th>ссылка</th>\n    </tr>\n  </thead>\n  <tbody>\n    <tr>\n      <th>0</th>\n      <td>19 апреля 2021 в 18:32</td>\n      <td>Конгрессмены попросили президента США запретит...</td>\n      <td>https://habr.com/ru/company/selectel/blog/553164/</td>\n    </tr>\n    <tr>\n      <th>0</th>\n      <td>18 апреля 2021 в 21:08</td>\n      <td>FOSS News №66 – дайджест материалов о свободно...</td>\n      <td>https://habr.com/ru/post/553086/</td>\n    </tr>\n    <tr>\n      <th>0</th>\n      <td>17 апреля 2021 в 19:10</td>\n      <td>Почему античитерское ПО блокирует инструменты ...</td>\n      <td>https://habr.com/ru/company/skillfactory/blog/...</td>\n    </tr>\n    <tr>\n      <th>0</th>\n      <td>16 апреля 2021 в 01:51</td>\n      <td>Сочиняя ПО: Почему стоит изучать ФП на JavaScr...</td>\n      <td>https://habr.com/ru/post/552674/</td>\n    </tr>\n    <tr>\n      <th>0</th>\n      <td>15 апреля 2021 в 08:01</td>\n      <td>Проблемы с производительностью в игре XCOM 2</td>\n      <td>https://habr.com/ru/company/gaijin/blog/552484/</td>\n    </tr>\n    <tr>\n      <th>0</th>\n      <td>11 апреля 2021 в 20:41</td>\n      <td>FOSS News №65 – дайджест материалов о свободно...</td>\n      <td>https://habr.com/ru/post/551870/</td>\n    </tr>\n    <tr>\n      <th>0</th>\n      <td>9 апреля 2021 в 13:07</td>\n      <td>14 самых вдохновляющих статей о тестировании П...</td>\n      <td>https://habr.com/ru/company/otus/blog/551266/</td>\n    </tr>\n    <tr>\n      <th>0</th>\n      <td>7 апреля 2021 в 12:19</td>\n      <td>Альтернативное собеседование на позицию разраб...</td>\n      <td>https://habr.com/ru/post/551202/</td>\n    </tr>\n    <tr>\n      <th>0</th>\n      <td>6 апреля 2021 в 11:47</td>\n      <td>Программирование голосом. Передовые рубежи раз...</td>\n      <td>https://habr.com/ru/company/ruvds/blog/550486/</td>\n    </tr>\n    <tr>\n      <th>0</th>\n      <td>4 апреля 2021 в 21:27</td>\n      <td>FOSS News №64 – дайджест материалов о свободно...</td>\n      <td>https://habr.com/ru/post/550640/</td>\n    </tr>\n  </tbody>\n</table>\n</div>"
     },
     "metadata": {},
     "execution_count": 5
    }
   ],
   "source": [
    "i = 0\n",
    "re = pd.DataFrame()\n",
    "while True:\n",
    "    i += 1\n",
    "    #print(i)\n",
    "    link = 'https://habr.com/ru/all/page%d'% i\n",
    "    #print(link)\n",
    "    res = requests.get(link)\n",
    "    time.sleep(1)\n",
    "    if res.status_code != 200:\n",
    "        break\n",
    "    soup = BeautifulSoup(res.text)\n",
    "    post = soup.find_all('article', class_='post post_preview')\n",
    "    re = re.append(get_post(post, KEYWORDS))\n",
    "re"
   ]
  },
  {
   "cell_type": "code",
   "execution_count": 29,
   "metadata": {},
   "outputs": [
    {
     "output_type": "execute_result",
     "data": {
      "text/plain": [
       "<Response [200]>"
      ]
     },
     "metadata": {},
     "execution_count": 29
    }
   ],
   "source": [
    "URL = 'https://identityprotection.avast.com/v1/web/query/site-breaches/unauthorized-data'\n",
    "HEADERS = {\n",
    "    'Host': 'identityprotection.avast.com',\n",
    "    'Connection': 'keep-alive',\n",
    "    'Content-Length': '33',\n",
    "    'sec-ch-ua': '\"Google Chrome\";v=\"89\", \"Chromium\";v=\"89\", \";Not A Brand\";v=\"99\"',\n",
    "    'Vaar-Header-App-Build-Version': '1.0.0',\n",
    "    'sec-ch-ua-mobile': '?0',\n",
    "    'User-Agent': 'Mozilla /5.0 (X11; Linux x86_64) AppleWebKit /537.36 (KHTML, like Gecko) Chrome /88.0.4324.150 Safari /537.36',\n",
    "    'Content-Type': 'application/json;charset=UTF-8',\n",
    "    'Accept': 'application/json, text/plain, */*',\n",
    "    'Vaar-Version': '0',\n",
    "    'Vaar-Header-App-Product': 'hackcheck-web-avast',\n",
    "    'Vaar-Header-App-Product-Name': 'hackcheck-web-avast',\n",
    "    'Origin': 'https://www.avast.com',\n",
    "    'Sec-Fetch-Site': 'same-site',\n",
    "    'Sec-Fetch-Mode': 'cors',\n",
    "    'Sec-Fetch-Dest': 'empty',\n",
    "    'Referer': 'https://www.avast.com/',\n",
    "    'Accept-Encoding': 'gzip, deflate, br',\n",
    "    'Accept-Language': 'ru,uk-UA;q=0.9,uk;q=0.8,en-US;q=0.7,en;q=0.6',\n",
    "    }\n",
    "PAYLOAD = {\"emailAddresses\": ['xxx@x.ru', 'yyy@y.com']}\n",
    "\n",
    "r = requests.post(URL, headers=HEADERS, json=PAYLOAD)\n",
    "r"
   ]
  },
  {
   "cell_type": "code",
   "execution_count": 36,
   "metadata": {},
   "outputs": [],
   "source": [
    "import json\n",
    "res = json.loads(r.content)"
   ]
  },
  {
   "cell_type": "code",
   "execution_count": 48,
   "metadata": {},
   "outputs": [],
   "source": [
    "em = pd.DataFrame()\n",
    "for i in res['summary']:\n",
    "    for j in res['summary'][i]['breaches']:\n",
    "        date = res['breaches'][str(j)]['publishDate']\n",
    "        site = res['breaches'][str(j)]['site']\n",
    "        description = res['breaches'][str(j)]['description']\n",
    "        em = em.append({'email': i, 'date': date, 'site': site, 'description': description}, ignore_index=True)"
   ]
  },
  {
   "cell_type": "code",
   "execution_count": 49,
   "metadata": {},
   "outputs": [
    {
     "output_type": "execute_result",
     "data": {
      "text/plain": [
       "                    date                                        description  \\\n",
       "0   2019-03-28T00:00:00Z  Big data e-mail verification platform verifica...   \n",
       "1   2020-05-21T00:00:00Z  At some time in 2020, the Russian social netwo...   \n",
       "2   2017-02-14T00:00:00Z  In July and August 2016, two criminals execute...   \n",
       "3   2016-10-29T00:00:00Z  Popular Russian social networking platform VKo...   \n",
       "4   2016-10-21T00:00:00Z  In October of 2013, criminals penetrated Adobe...   \n",
       "5   2017-02-14T00:00:00Z  In July and August of 2016, two criminals carr...   \n",
       "6   2017-01-31T00:00:00Z  In March 2016, CDProjektRed.com.com's forum da...   \n",
       "7   2016-10-23T00:00:00Z  In June 2016, a cache of over 51 million user ...   \n",
       "8   2019-03-28T00:00:00Z  Big data e-mail verification platform verifica...   \n",
       "9   2019-02-21T00:00:00Z  This is a list of email addresses only, and as...   \n",
       "10  2020-11-19T00:00:00Z  In March 2020, the stock image agency 123RF wa...   \n",
       "11  2020-01-03T00:00:00Z  At an unconfirmed date, online Arizona newspap...   \n",
       "12  2020-05-28T00:00:00Z  In January 2020, the online poll website Wishb...   \n",
       "13  2017-11-04T00:00:00Z  In October 2017, a customer database belonging...   \n",
       "14  2017-12-01T00:00:00Z  At an unconfirmed date, Creo Community's user ...   \n",
       "15  2021-02-11T00:00:00Z  At an unconfirmed date, the Russian-language m...   \n",
       "16  2019-06-13T00:00:00Z  In May 2019, graphic-design site Canva's datab...   \n",
       "17  2016-10-24T00:00:00Z  Cloud storage company Dropbox suffered a major...   \n",
       "18  2016-10-21T00:00:00Z  In 2012, online professional networking platfo...   \n",
       "19  2017-03-01T00:00:00Z  On an unconfirmed date, Chinese gossip site Ra...   \n",
       "20  2019-10-17T00:00:00Z  In September 2019, the game developer Zynga wa...   \n",
       "21  2019-07-11T00:00:00Z  In May 2019, a security researcher discovered ...   \n",
       "22  2016-10-21T00:00:00Z  In October of 2013, criminals penetrated Adobe...   \n",
       "23  2018-02-18T00:00:00Z  Netlog (formerly known as Facebox and Bingbox)...   \n",
       "24  2017-03-15T00:00:00Z  In 2016, Global Reach Technology's database wa...   \n",
       "25  2016-10-23T00:00:00Z  In June 2016, a cache of over 51 million user ...   \n",
       "26  2017-03-24T00:00:00Z  Youku is a large Chinese video content company...   \n",
       "\n",
       "        email                    site  \n",
       "0    xxx@x.ru        verifications.io  \n",
       "1    xxx@x.ru                  vk.com  \n",
       "2    xxx@x.ru          parapa.mail.ru  \n",
       "3    xxx@x.ru                  vk.com  \n",
       "4    xxx@x.ru               adobe.com  \n",
       "5    xxx@x.ru           cfire.mail.ru  \n",
       "6    xxx@x.ru        cdprojektred.com  \n",
       "7    xxx@x.ru               imesh.com  \n",
       "8   yyy@y.com        verifications.io  \n",
       "9   yyy@y.com        www.dangdang.com  \n",
       "10  yyy@y.com               123rf.com  \n",
       "11  yyy@y.com           azcentral.com  \n",
       "12  yyy@y.com             wishbone.io  \n",
       "13  yyy@y.com          myheritage.com  \n",
       "14  yyy@y.com       creocommunity.com  \n",
       "15  yyy@y.com    forums.vkmonline.com  \n",
       "16  yyy@y.com               canva.com  \n",
       "17  yyy@y.com             dropbox.com  \n",
       "18  yyy@y.com            linkedin.com  \n",
       "19  yyy@y.com            rayli.com.cn  \n",
       "20  yyy@y.com               zynga.com  \n",
       "21  yyy@y.com  medicaresupplement.com  \n",
       "22  yyy@y.com               adobe.com  \n",
       "23  yyy@y.com              netlog.com  \n",
       "24  yyy@y.com          globalreach.eu  \n",
       "25  yyy@y.com               imesh.com  \n",
       "26  yyy@y.com               youku.com  "
      ],
      "text/html": "<div>\n<style scoped>\n    .dataframe tbody tr th:only-of-type {\n        vertical-align: middle;\n    }\n\n    .dataframe tbody tr th {\n        vertical-align: top;\n    }\n\n    .dataframe thead th {\n        text-align: right;\n    }\n</style>\n<table border=\"1\" class=\"dataframe\">\n  <thead>\n    <tr style=\"text-align: right;\">\n      <th></th>\n      <th>date</th>\n      <th>description</th>\n      <th>email</th>\n      <th>site</th>\n    </tr>\n  </thead>\n  <tbody>\n    <tr>\n      <th>0</th>\n      <td>2019-03-28T00:00:00Z</td>\n      <td>Big data e-mail verification platform verifica...</td>\n      <td>xxx@x.ru</td>\n      <td>verifications.io</td>\n    </tr>\n    <tr>\n      <th>1</th>\n      <td>2020-05-21T00:00:00Z</td>\n      <td>At some time in 2020, the Russian social netwo...</td>\n      <td>xxx@x.ru</td>\n      <td>vk.com</td>\n    </tr>\n    <tr>\n      <th>2</th>\n      <td>2017-02-14T00:00:00Z</td>\n      <td>In July and August 2016, two criminals execute...</td>\n      <td>xxx@x.ru</td>\n      <td>parapa.mail.ru</td>\n    </tr>\n    <tr>\n      <th>3</th>\n      <td>2016-10-29T00:00:00Z</td>\n      <td>Popular Russian social networking platform VKo...</td>\n      <td>xxx@x.ru</td>\n      <td>vk.com</td>\n    </tr>\n    <tr>\n      <th>4</th>\n      <td>2016-10-21T00:00:00Z</td>\n      <td>In October of 2013, criminals penetrated Adobe...</td>\n      <td>xxx@x.ru</td>\n      <td>adobe.com</td>\n    </tr>\n    <tr>\n      <th>5</th>\n      <td>2017-02-14T00:00:00Z</td>\n      <td>In July and August of 2016, two criminals carr...</td>\n      <td>xxx@x.ru</td>\n      <td>cfire.mail.ru</td>\n    </tr>\n    <tr>\n      <th>6</th>\n      <td>2017-01-31T00:00:00Z</td>\n      <td>In March 2016, CDProjektRed.com.com's forum da...</td>\n      <td>xxx@x.ru</td>\n      <td>cdprojektred.com</td>\n    </tr>\n    <tr>\n      <th>7</th>\n      <td>2016-10-23T00:00:00Z</td>\n      <td>In June 2016, a cache of over 51 million user ...</td>\n      <td>xxx@x.ru</td>\n      <td>imesh.com</td>\n    </tr>\n    <tr>\n      <th>8</th>\n      <td>2019-03-28T00:00:00Z</td>\n      <td>Big data e-mail verification platform verifica...</td>\n      <td>yyy@y.com</td>\n      <td>verifications.io</td>\n    </tr>\n    <tr>\n      <th>9</th>\n      <td>2019-02-21T00:00:00Z</td>\n      <td>This is a list of email addresses only, and as...</td>\n      <td>yyy@y.com</td>\n      <td>www.dangdang.com</td>\n    </tr>\n    <tr>\n      <th>10</th>\n      <td>2020-11-19T00:00:00Z</td>\n      <td>In March 2020, the stock image agency 123RF wa...</td>\n      <td>yyy@y.com</td>\n      <td>123rf.com</td>\n    </tr>\n    <tr>\n      <th>11</th>\n      <td>2020-01-03T00:00:00Z</td>\n      <td>At an unconfirmed date, online Arizona newspap...</td>\n      <td>yyy@y.com</td>\n      <td>azcentral.com</td>\n    </tr>\n    <tr>\n      <th>12</th>\n      <td>2020-05-28T00:00:00Z</td>\n      <td>In January 2020, the online poll website Wishb...</td>\n      <td>yyy@y.com</td>\n      <td>wishbone.io</td>\n    </tr>\n    <tr>\n      <th>13</th>\n      <td>2017-11-04T00:00:00Z</td>\n      <td>In October 2017, a customer database belonging...</td>\n      <td>yyy@y.com</td>\n      <td>myheritage.com</td>\n    </tr>\n    <tr>\n      <th>14</th>\n      <td>2017-12-01T00:00:00Z</td>\n      <td>At an unconfirmed date, Creo Community's user ...</td>\n      <td>yyy@y.com</td>\n      <td>creocommunity.com</td>\n    </tr>\n    <tr>\n      <th>15</th>\n      <td>2021-02-11T00:00:00Z</td>\n      <td>At an unconfirmed date, the Russian-language m...</td>\n      <td>yyy@y.com</td>\n      <td>forums.vkmonline.com</td>\n    </tr>\n    <tr>\n      <th>16</th>\n      <td>2019-06-13T00:00:00Z</td>\n      <td>In May 2019, graphic-design site Canva's datab...</td>\n      <td>yyy@y.com</td>\n      <td>canva.com</td>\n    </tr>\n    <tr>\n      <th>17</th>\n      <td>2016-10-24T00:00:00Z</td>\n      <td>Cloud storage company Dropbox suffered a major...</td>\n      <td>yyy@y.com</td>\n      <td>dropbox.com</td>\n    </tr>\n    <tr>\n      <th>18</th>\n      <td>2016-10-21T00:00:00Z</td>\n      <td>In 2012, online professional networking platfo...</td>\n      <td>yyy@y.com</td>\n      <td>linkedin.com</td>\n    </tr>\n    <tr>\n      <th>19</th>\n      <td>2017-03-01T00:00:00Z</td>\n      <td>On an unconfirmed date, Chinese gossip site Ra...</td>\n      <td>yyy@y.com</td>\n      <td>rayli.com.cn</td>\n    </tr>\n    <tr>\n      <th>20</th>\n      <td>2019-10-17T00:00:00Z</td>\n      <td>In September 2019, the game developer Zynga wa...</td>\n      <td>yyy@y.com</td>\n      <td>zynga.com</td>\n    </tr>\n    <tr>\n      <th>21</th>\n      <td>2019-07-11T00:00:00Z</td>\n      <td>In May 2019, a security researcher discovered ...</td>\n      <td>yyy@y.com</td>\n      <td>medicaresupplement.com</td>\n    </tr>\n    <tr>\n      <th>22</th>\n      <td>2016-10-21T00:00:00Z</td>\n      <td>In October of 2013, criminals penetrated Adobe...</td>\n      <td>yyy@y.com</td>\n      <td>adobe.com</td>\n    </tr>\n    <tr>\n      <th>23</th>\n      <td>2018-02-18T00:00:00Z</td>\n      <td>Netlog (formerly known as Facebox and Bingbox)...</td>\n      <td>yyy@y.com</td>\n      <td>netlog.com</td>\n    </tr>\n    <tr>\n      <th>24</th>\n      <td>2017-03-15T00:00:00Z</td>\n      <td>In 2016, Global Reach Technology's database wa...</td>\n      <td>yyy@y.com</td>\n      <td>globalreach.eu</td>\n    </tr>\n    <tr>\n      <th>25</th>\n      <td>2016-10-23T00:00:00Z</td>\n      <td>In June 2016, a cache of over 51 million user ...</td>\n      <td>yyy@y.com</td>\n      <td>imesh.com</td>\n    </tr>\n    <tr>\n      <th>26</th>\n      <td>2017-03-24T00:00:00Z</td>\n      <td>Youku is a large Chinese video content company...</td>\n      <td>yyy@y.com</td>\n      <td>youku.com</td>\n    </tr>\n  </tbody>\n</table>\n</div>"
     },
     "metadata": {},
     "execution_count": 49
    }
   ],
   "source": [
    "em"
   ]
  }
 ]
}