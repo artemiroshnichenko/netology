{
 "metadata": {
  "language_info": {
   "codemirror_mode": {
    "name": "ipython",
    "version": 3
   },
   "file_extension": ".py",
   "mimetype": "text/x-python",
   "name": "python",
   "nbconvert_exporter": "python",
   "pygments_lexer": "ipython3",
   "version": "3.9.1-final"
  },
  "orig_nbformat": 2,
  "kernelspec": {
   "name": "python3",
   "display_name": "Python 3.9.1 64-bit",
   "metadata": {
    "interpreter": {
     "hash": "2e67019cc1a965b2de7d1bc97671b88ba1f15260f829817e0cae2f26dc1408bd"
    }
   }
  }
 },
 "nbformat": 4,
 "nbformat_minor": 2,
 "cells": [
  {
   "cell_type": "code",
   "execution_count": 12,
   "metadata": {},
   "outputs": [
    {
     "output_type": "stream",
     "name": "stdout",
     "text": [
      "Фраза 1 длиннее фразы 2\n"
     ]
    }
   ],
   "source": [
    "def sep(phrase_1: str, phrase_2: str):\n",
    "    if len(phrase_1) > len(phrase_2):\n",
    "        print('Фраза 1 длиннее фразы 2')\n",
    "    elif len(phrase_1) < len(phrase_2):\n",
    "        print('Фраза 2 длиннее фразы 1')\n",
    "    else:\n",
    "        print('Фразы равной длины')\n",
    "\n",
    "phrase_1 = 'Насколько проще было бы писать программы, если бы не заказчики'\n",
    "phrase_2 = '640Кб должно хватить для любых задач. Билл Гейтс (по легенде)'\n",
    "sep(phrase_1, phrase_2)"
   ]
  },
  {
   "cell_type": "code",
   "execution_count": 16,
   "metadata": {},
   "outputs": [
    {
     "output_type": "stream",
     "name": "stdout",
     "text": [
      "Високосный\n"
     ]
    }
   ],
   "source": [
    "def year(y: int):\n",
    "    if y % 4 != 0 or (y % 100 == 0 and y % 400 != 0):\n",
    "        print(\"Обычный\")\n",
    "    else:\n",
    "        print(\"Високосный\")\n",
    "year(2020)"
   ]
  },
  {
   "cell_type": "code",
   "execution_count": 42,
   "metadata": {},
   "outputs": [
    {
     "output_type": "stream",
     "name": "stdout",
     "text": [
      "Знак зодиака:Телец\n"
     ]
    }
   ],
   "source": [
    "date=int(input(\"Введите день рождения:\"))\n",
    "month=input(\"Введите месяц рождения:\")\n",
    "if type(month) == str:\n",
    "    if month == \"Январь\" or month == \"January\" or month == \"1\":\n",
    "        month = 1\n",
    "    elif month == \"Февраль\" or month == \"February\" or month == \"2\":\n",
    "        month = 2\n",
    "    elif month == \"Март\" or month == \"March\" or month == \"3\":\n",
    "        month = 3\n",
    "    elif month == \"Апрель\" or month == \"April\" or month == \"4\":\n",
    "        month = 4\n",
    "    elif month == \"Май\" or month == \"May\" or month == \"5\":\n",
    "        month = 5\n",
    "    elif month == \"Июнь\" or month == \"June\" or month == \"6\":\n",
    "        month = 6\n",
    "    elif month == \"Июль\" or month == \"July\" or month == \"7\":\n",
    "        month = 7\n",
    "    elif month == \"Август\" or month == \"August\" or month == \"8\":\n",
    "        month = 8\n",
    "    elif month == \"Сентябрь\" or month == \"September\" or month == \"9\":\n",
    "        month = 9\n",
    "    elif month == \"Октябрь\" or month == \"October\" or month == \"10\":\n",
    "        month = 10\n",
    "    elif month == \"Ноябрь\" or month == \"November\" or month == \"11\":\n",
    "        month = 11\n",
    "    elif month == \"Декабрь\" or month == \"December\" or month == \"12\":\n",
    "        month = 12\n",
    "if (date>=21 and date<=31 and month==3) or( month==4 and date>=1 and date<=19):\n",
    "   print(\"Знак зодиака:Овен\")\n",
    "elif (date>=20 and date<=30 and month==4) or( month==5 and date>=1 and date<=20):\n",
    "   print(\"Знак зодиака:Телец\")\n",
    "elif (date>=21 and date<=31 and month==5) or( month==6 and date>=1 and date<=21):\n",
    "   print(\"Знак зодиака:Близнецы\")\n",
    "elif (date>=22 and date<=30 and month==6) or( month==7 and date>=1 and date<=22):\n",
    "   print(\"Знак зодиака:Рак\")\n",
    "elif (date>=23 and date<=31 and month==7) or( month==8 and date>=1 and date<=22):\n",
    "   print(\"Знак зодиака:Лев\")\n",
    "elif (date>=23 and date<=31 and month==8) or( month==9 and date>=1 and date<=22):\n",
    "   print(\"Знак зодиака:Дева\")\n",
    "elif (date>=23 and date<=30 and month==9) or( month==10 and date>=1 and date<=23):\n",
    "   print(\"Знак зодиака:Весы\")\n",
    "elif (date>=24 and date<=31 and month==10) or( month==11 and date>=1 and date<=22):\n",
    "   print(\"Знак зодиака:Скорпион\")\n",
    "elif (date>=23 and date<=30 and month==11) or( month==12 and date>=1 and date<=21):\n",
    "   print(\"Знак зодиака:Стрелец\")\n",
    "elif (date>=22 and date<=31 and month==12) or( month==1 and date>=1 and date<=20):\n",
    "   print(\"Знак зодиака:Козерог\")\n",
    "elif (date>=21 and date<=31 and month==1) or( month==2 and date>=1 and date<=18):\n",
    "   print(\"Знак зодиака:Водолей\")\n",
    "elif (date>=19 and date<=29 and month==2) or( month==3 and date>=1 and date<=20):\n",
    "   print(\"Знак зодиака:Рыбы\")"
   ]
  },
  {
   "cell_type": "code",
   "execution_count": 5,
   "metadata": {},
   "outputs": [
    {
     "output_type": "stream",
     "name": "stdout",
     "text": [
      "Коробка №2\n"
     ]
    }
   ],
   "source": [
    "def pac(width, length, height):\n",
    "    if width < 15 and length < 15 and height < 15:\n",
    "        print(\"Коробка №1\")\n",
    "    elif width > 15 and width < 50 or length > 15 and length < 50 or height > 15 and height < 50:\n",
    "        print(\"Коробка №2\")\n",
    "    elif length > 200:\n",
    "        print(\"Упаковка для лыж\")\n",
    "    else:\n",
    "        print(\"Стандартная коробка №3\")\n",
    "width = 10\n",
    "length = 44\n",
    "height = 5\n",
    "pac(width, length, height)"
   ]
  }
 ]
}