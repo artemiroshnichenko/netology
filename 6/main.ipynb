{
 "metadata": {
  "language_info": {
   "codemirror_mode": {
    "name": "ipython",
    "version": 3
   },
   "file_extension": ".py",
   "mimetype": "text/x-python",
   "name": "python",
   "nbconvert_exporter": "python",
   "pygments_lexer": "ipython3",
   "version": "3.9.0-final"
  },
  "orig_nbformat": 2,
  "kernelspec": {
   "name": "python3",
   "display_name": "Python 3",
   "language": "python"
  }
 },
 "nbformat": 4,
 "nbformat_minor": 2,
 "cells": [
  {
   "cell_type": "code",
   "execution_count": 1,
   "metadata": {},
   "outputs": [
    {
     "output_type": "stream",
     "name": "stdout",
     "text": [
      "2002-10-02 00:00:00\n2013-11-10 00:00:00\n1977-08-18 00:00:00\n"
     ]
    }
   ],
   "source": [
    "from datetime import datetime\n",
    "str = 'Wednesday, October 2, 2002'\n",
    "print(datetime.strptime(str, '%A, %B %d, %Y'))\n",
    "str = 'Friday, 11.10.13'\n",
    "print(datetime.strptime(str, '%A, %m.%d.%y'))\n",
    "str = 'Thursday, 18 August 1977'\n",
    "print(datetime.strptime(str, '%A, %d %B %Y'))"
   ]
  },
  {
   "cell_type": "code",
   "execution_count": 2,
   "metadata": {},
   "outputs": [
    {
     "output_type": "execute_result",
     "data": {
      "text/plain": [
       "False"
      ]
     },
     "metadata": {},
     "execution_count": 2
    }
   ],
   "source": [
    "stream = ['2018-04-02', '2018-02-29', '2018-19-02']\n",
    "def ch(date):\n",
    "    try:\n",
    "        datetime.strptime(date, '%Y-%m-%d')\n",
    "        return True\n",
    "    except ValueError:\n",
    "        return False\n",
    "ch(stream[1])"
   ]
  },
  {
   "cell_type": "code",
   "execution_count": 3,
   "metadata": {},
   "outputs": [
    {
     "output_type": "execute_result",
     "data": {
      "text/plain": [
       "[datetime.datetime(2021, 1, 1, 0, 0),\n",
       " datetime.datetime(2021, 1, 2, 0, 0),\n",
       " datetime.datetime(2021, 1, 3, 0, 0),\n",
       " datetime.datetime(2021, 1, 4, 0, 0),\n",
       " datetime.datetime(2021, 1, 5, 0, 0),\n",
       " datetime.datetime(2021, 1, 6, 0, 0),\n",
       " datetime.datetime(2021, 1, 7, 0, 0),\n",
       " datetime.datetime(2021, 1, 8, 0, 0),\n",
       " datetime.datetime(2021, 1, 9, 0, 0),\n",
       " datetime.datetime(2021, 1, 10, 0, 0)]"
      ]
     },
     "metadata": {},
     "execution_count": 3
    }
   ],
   "source": [
    "import datetime\n",
    "def date_range(start, end):\n",
    "    try:\n",
    "        date_list = [start + datetime.timedelta(days=x) for x in range((end - start).days + 1)]\n",
    "    except ValueError:\n",
    "        date_list = []\n",
    "    return date_list\n",
    "start = datetime.datetime.strptime(input(), '%Y-%m-%d')\n",
    "end = datetime.datetime.strptime(input(), '%Y-%m-%d')\n",
    "date_range(start, end)\n"
   ]
  }
 ]
}