{
 "metadata": {
  "language_info": {
   "codemirror_mode": {
    "name": "ipython",
    "version": 3
   },
   "file_extension": ".py",
   "mimetype": "text/x-python",
   "name": "python",
   "nbconvert_exporter": "python",
   "pygments_lexer": "ipython3",
   "version": "3.9.0-final"
  },
  "orig_nbformat": 2,
  "kernelspec": {
   "name": "python3",
   "display_name": "Python 3",
   "language": "python"
  }
 },
 "nbformat": 4,
 "nbformat_minor": 2,
 "cells": [
  {
   "cell_type": "code",
   "execution_count": 8,
   "metadata": {},
   "outputs": [
    {
     "output_type": "stream",
     "name": "stdout",
     "text": [
      "2002-10-02 00:00:00\n2013-11-10 00:00:00\n1977-08-18 00:00:00\n"
     ]
    }
   ],
   "source": [
    "from datetime import datetime\n",
    "str = 'Wednesday, October 2, 2002'\n",
    "print(datetime.strptime(str, '%A, %B %d, %Y'))\n",
    "str = 'Friday, 11.10.13'\n",
    "print(datetime.strptime(str, '%A, %m.%d.%y'))\n",
    "str = 'Thursday, 18 August 1977'\n",
    "print(datetime.strptime(str, '%A, %d %B %Y'))"
   ]
  },
  {
   "cell_type": "code",
   "execution_count": 13,
   "metadata": {},
   "outputs": [
    {
     "output_type": "execute_result",
     "data": {
      "text/plain": [
       "False"
      ]
     },
     "metadata": {},
     "execution_count": 13
    }
   ],
   "source": [
    "stream = ['2018-04-02', '2018-02-29', '2018-19-02']\n",
    "def ch(date):\n",
    "    try:\n",
    "        datetime.strptime(date, '%Y-%m-%d')\n",
    "        return True\n",
    "    except ValueError:\n",
    "        return False\n",
    "ch(stream[1])"
   ]
  },
  {
   "cell_type": "code",
   "execution_count": 39,
   "metadata": {},
   "outputs": [
    {
     "output_type": "execute_result",
     "data": {
      "text/plain": [
       "[]"
      ]
     },
     "metadata": {},
     "execution_count": 39
    }
   ],
   "source": [
    "import datetime\n",
    "def date_range(start, end):\n",
    "    date_list = [start + datetime.timedelta(days=x) for x in range((end - start).days + 1)]\n",
    "    return date_list\n",
    "start = datetime.datetime.strptime(input(), '%Y-%m-%d')\n",
    "end = datetime.datetime.strptime(input(), '%Y-%m-%d')\n",
    "date_range(start, end)\n"
   ]
  }
 ]
}