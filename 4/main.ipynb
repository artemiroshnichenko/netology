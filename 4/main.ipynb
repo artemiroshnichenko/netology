{
 "metadata": {
  "language_info": {
   "codemirror_mode": {
    "name": "ipython",
    "version": 3
   },
   "file_extension": ".py",
   "mimetype": "text/x-python",
   "name": "python",
   "nbconvert_exporter": "python",
   "pygments_lexer": "ipython3",
   "version": "3.9.1-final"
  },
  "orig_nbformat": 2,
  "kernelspec": {
   "name": "python3",
   "display_name": "Python 3.9.1 64-bit",
   "metadata": {
    "interpreter": {
     "hash": "64936719a33416ab8db1ab7af93f5ba087c2ec6c09c115f83899d75015472944"
    }
   }
  }
 },
 "nbformat": 4,
 "nbformat_minor": 2,
 "cells": [
  {
   "cell_type": "code",
   "execution_count": 1,
   "metadata": {},
   "outputs": [],
   "source": [
    "documents = [\n",
    " {'type': 'passport', 'number': '2207 876234', 'name': 'Василий Гупкин'},\n",
    " {'type': 'invoice', 'number': '11-2', 'name': 'Геннадий Покемонов'},\n",
    " {'type': 'insurance', 'number': '10006', 'name': 'Аристарх Павлов'}\n",
    "]\n",
    "directories = {\n",
    " '1': ['2207 876234', '11-2'],\n",
    " '2': ['10006'],\n",
    " '3': []\n",
    "}"
   ]
  },
  {
   "cell_type": "code",
   "execution_count": 2,
   "metadata": {},
   "outputs": [],
   "source": [
    "def pers(id: str):\n",
    "    for i in documents:\n",
    "        if i['number'] == id:\n",
    "            return i['name']\n",
    "        else:\n",
    "            s = 'Документ не найден в базе'\n",
    "    return s"
   ]
  },
  {
   "cell_type": "code",
   "execution_count": 3,
   "metadata": {},
   "outputs": [],
   "source": [
    "def dir_(id: str):\n",
    "    for i in directories:\n",
    "        for j in directories[i]:\n",
    "            if j == id:\n",
    "                return i\n",
    "            else:\n",
    "                s = 'Документ не найден в базе'\n",
    "    return s"
   ]
  },
  {
   "cell_type": "code",
   "execution_count": 18,
   "metadata": {},
   "outputs": [],
   "source": [
    "def all_():\n",
    "    for i in documents:\n",
    "        print('№: %s, тип: %s, владелец: %s, полка хранения: %s' % \n",
    "            (i['number'], i['type'], i['name'], dir_(i['number'])))"
   ]
  },
  {
   "cell_type": "code",
   "execution_count": 5,
   "metadata": {},
   "outputs": [],
   "source": [
    "def shefl(s: str):\n",
    "    print(s + ' Текущий перечень полок: ', end='')\n",
    "    j = 0\n",
    "    for i in directories:\n",
    "        j += 1\n",
    "        print(i, end='')\n",
    "        if j == len(directories):\n",
    "            print('.')\n",
    "        else:\n",
    "            print(', ', end='')"
   ]
  },
  {
   "cell_type": "code",
   "execution_count": 6,
   "metadata": {},
   "outputs": [],
   "source": [
    "def check_sh(key: str):\n",
    "    for i in directories:\n",
    "        if key == i:\n",
    "            return False\n",
    "    return True"
   ]
  },
  {
   "cell_type": "code",
   "execution_count": 7,
   "metadata": {},
   "outputs": [],
   "source": [
    "def ad(key: str):\n",
    "    if check_sh(key):\n",
    "        directories[key] = []\n",
    "        shefl('Полка добавлена.')\n",
    "    else:\n",
    "        shefl('Такая полка уже существует.')"
   ]
  },
  {
   "cell_type": "code",
   "execution_count": 29,
   "metadata": {},
   "outputs": [],
   "source": [
    "def ds(key: str):\n",
    "    if check_sh(key):\n",
    "        shefl('Такой полки не существует.')\n",
    "    else:\n",
    "        if len(directories[key]) == 0: \n",
    "            directories.pop(key, None)\n",
    "            shefl('Полка удалена.')\n",
    "        else:\n",
    "            shefl('На полке есть документа, удалите их перед удалением полки.')"
   ]
  },
  {
   "cell_type": "code",
   "execution_count": 30,
   "metadata": {},
   "outputs": [
    {
     "output_type": "stream",
     "name": "stdout",
     "text": [
      "На полке есть документа, удалите их перед удалением полки. Текущий перечень полок: 1, 2, 3.\n",
      "На полке есть документа, удалите их перед удалением полки. Текущий перечень полок: 1, 2, 3.\n",
      "Полка удалена. Текущий перечень полок: 1, 2.\n",
      "Полка добавлена. Текущий перечень полок: 1, 2, 3.\n"
     ]
    }
   ],
   "source": [
    "while 1:\n",
    "    inp = input('Введите команду:')\n",
    "    if inp == 'q':\n",
    "        break\n",
    "    elif inp == 'p':\n",
    "        key = input('Введите номер документа:')\n",
    "        print(pers(key))\n",
    "    elif inp == 's':\n",
    "        key = input('Введите номер документа:')\n",
    "        print(dir_(key))\n",
    "    elif inp == 'l':\n",
    "        all_()\n",
    "    elif inp == 'ads':\n",
    "        key = input('Введите номер полки:')\n",
    "        ad(key)\n",
    "    elif inp == 'ds':\n",
    "        key = input('Введите номер полки:')\n",
    "        ds(key)"
   ]
  },
  {
   "cell_type": "code",
   "execution_count": 20,
   "metadata": {},
   "outputs": [
    {
     "output_type": "execute_result",
     "data": {
      "text/plain": [
       "'Аристарх Павлов'"
      ]
     },
     "metadata": {},
     "execution_count": 20
    }
   ],
   "source": []
  }
 ]
}