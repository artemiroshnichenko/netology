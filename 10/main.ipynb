{
 "metadata": {
  "language_info": {
   "codemirror_mode": {
    "name": "ipython",
    "version": 3
   },
   "file_extension": ".py",
   "mimetype": "text/x-python",
   "name": "python",
   "nbconvert_exporter": "python",
   "pygments_lexer": "ipython3",
   "version": "3.9.1-final"
  },
  "orig_nbformat": 2,
  "kernelspec": {
   "name": "python3",
   "display_name": "Python 3.9.1 64-bit",
   "metadata": {
    "interpreter": {
     "hash": "397704579725e15f5c7cb49fe5f0341eb7531c82d19f2c29d197e8b64ab5776b"
    }
   }
  }
 },
 "nbformat": 4,
 "nbformat_minor": 2,
 "cells": [
  {
   "cell_type": "code",
   "execution_count": 12,
   "metadata": {},
   "outputs": [],
   "source": [
    "import pandas as pd \n",
    "import lxml"
   ]
  },
  {
   "cell_type": "code",
   "execution_count": 154,
   "metadata": {},
   "outputs": [
    {
     "output_type": "stream",
     "name": "stdout",
     "text": [
      "<class 'pandas.core.frame.DataFrame'>\nRangeIndex: 62423 entries, 0 to 62422\nData columns (total 3 columns):\n #   Column   Non-Null Count  Dtype \n---  ------   --------------  ----- \n 0   movieId  62423 non-null  int64 \n 1   title    62423 non-null  object\n 2   genres   62423 non-null  object\ndtypes: int64(1), object(2)\nmemory usage: 1.4+ MB\n"
     ]
    }
   ],
   "source": [
    "movie = pd.read_csv('movies.csv')\n",
    "movie.info()"
   ]
  },
  {
   "cell_type": "code",
   "execution_count": 155,
   "metadata": {},
   "outputs": [],
   "source": [
    "import subprocess\n",
    "import sys\n",
    "def install(package):\n",
    "    subprocess.check_call([sys.executable, \"-m\", \"pip\", \"install\", package])\n",
    "install('lxml')"
   ]
  },
  {
   "cell_type": "code",
   "execution_count": 62,
   "metadata": {},
   "outputs": [
    {
     "output_type": "stream",
     "name": "stdout",
     "text": [
      "<class 'pandas.core.frame.DataFrame'>\nRangeIndex: 25000095 entries, 0 to 25000094\nData columns (total 4 columns):\n #   Column     Dtype  \n---  ------     -----  \n 0   userId     int64  \n 1   movieId    int64  \n 2   rating     float64\n 3   timestamp  int64  \ndtypes: float64(1), int64(3)\nmemory usage: 762.9 MB\n"
     ]
    }
   ],
   "source": [
    "ratings = pd.read_csv('ratings.csv')\n",
    "ratings.info()"
   ]
  },
  {
   "cell_type": "code",
   "execution_count": 117,
   "metadata": {},
   "outputs": [
    {
     "output_type": "execute_result",
     "data": {
      "text/plain": [
       "         userId  rating  timestamp\n",
       "movieId                           \n",
       "318       39553   39553      39553"
      ],
      "text/html": "<div>\n<style scoped>\n    .dataframe tbody tr th:only-of-type {\n        vertical-align: middle;\n    }\n\n    .dataframe tbody tr th {\n        vertical-align: top;\n    }\n\n    .dataframe thead th {\n        text-align: right;\n    }\n</style>\n<table border=\"1\" class=\"dataframe\">\n  <thead>\n    <tr style=\"text-align: right;\">\n      <th></th>\n      <th>userId</th>\n      <th>rating</th>\n      <th>timestamp</th>\n    </tr>\n    <tr>\n      <th>movieId</th>\n      <th></th>\n      <th></th>\n      <th></th>\n    </tr>\n  </thead>\n  <tbody>\n    <tr>\n      <th>318</th>\n      <td>39553</td>\n      <td>39553</td>\n      <td>39553</td>\n    </tr>\n  </tbody>\n</table>\n</div>"
     },
     "metadata": {},
     "execution_count": 117
    }
   ],
   "source": [
    "ratings[ratings.rating == 5.0].groupby(by=['movieId']).count().sort_values(by='rating').tail(1)['movieId']"
   ]
  },
  {
   "cell_type": "code",
   "execution_count": 97,
   "metadata": {},
   "outputs": [
    {
     "output_type": "stream",
     "name": "stdout",
     "text": [
      "<class 'pandas.core.frame.DataFrame'>\nRangeIndex: 1189482 entries, 0 to 1189481\nData columns (total 4 columns):\n #   Column    Non-Null Count    Dtype  \n---  ------    --------------    -----  \n 0   country   1189482 non-null  object \n 1   year      1189482 non-null  int64  \n 2   quantity  1189482 non-null  float64\n 3   category  1189482 non-null  int64  \ndtypes: float64(1), int64(2), object(1)\nmemory usage: 36.3+ MB\n"
     ]
    }
   ],
   "source": [
    "power = pd.read_csv('power.csv')\n",
    "power.info()"
   ]
  },
  {
   "cell_type": "code",
   "execution_count": 145,
   "metadata": {},
   "outputs": [
    {
     "output_type": "execute_result",
     "data": {
      "text/plain": [
       "country\n",
       "Estonia       63440.0\n",
       "Latvia        54844.0\n",
       "Lithuania    122296.0\n",
       "Name: quantity, dtype: float64"
      ]
     },
     "metadata": {},
     "execution_count": 145
    }
   ],
   "source": [
    "power[((power['country'] == 'Latvia')|(power['country'] == 'Estonia')|(power['country'] == 'Lithuania'))&((power['category'] == 4)|(power['category'] == 12)|(power['category'] == 21))&((power['year'] == 2005)|(power['year'] == 2006)|(power['year'] == 2007)|(power['year'] == 2008)|(power['year'] == 2009)|(power['year'] == 2010))&(power['quantity'] > 0)].groupby('country').sum()['quantity']"
   ]
  },
  {
   "cell_type": "code",
   "execution_count": 8,
   "metadata": {},
   "outputs": [
    {
     "output_type": "execute_result",
     "data": {
      "text/plain": [
       "                           Название   Цена  Изменение  Изменение(%)  Обновлено\n",
       "0  EURRUB Курс евро к рублю сегодня  90.45       0.01          0.01        NaN\n",
       "1       USDRUB Курс рубля к доллару  76.60       0.00          0.00        NaN"
      ],
      "text/html": "<div>\n<style scoped>\n    .dataframe tbody tr th:only-of-type {\n        vertical-align: middle;\n    }\n\n    .dataframe tbody tr th {\n        vertical-align: top;\n    }\n\n    .dataframe thead th {\n        text-align: right;\n    }\n</style>\n<table border=\"1\" class=\"dataframe\">\n  <thead>\n    <tr style=\"text-align: right;\">\n      <th></th>\n      <th>Название</th>\n      <th>Цена</th>\n      <th>Изменение</th>\n      <th>Изменение(%)</th>\n      <th>Обновлено</th>\n    </tr>\n  </thead>\n  <tbody>\n    <tr>\n      <th>0</th>\n      <td>EURRUB Курс евро к рублю сегодня</td>\n      <td>90.45</td>\n      <td>0.01</td>\n      <td>0.01</td>\n      <td>NaN</td>\n    </tr>\n    <tr>\n      <th>1</th>\n      <td>USDRUB Курс рубля к доллару</td>\n      <td>76.60</td>\n      <td>0.00</td>\n      <td>0.00</td>\n      <td>NaN</td>\n    </tr>\n  </tbody>\n</table>\n</div>"
     },
     "metadata": {},
     "execution_count": 8
    }
   ],
   "source": [
    "import pandas as pd \n",
    "import lxml\n",
    "table = pd.read_html('https://fortrader.org/quotes')\n",
    "table[0]\n"
   ]
  },
  {
   "cell_type": "code",
   "execution_count": null,
   "metadata": {},
   "outputs": [],
   "source": []
  }
 ]
}