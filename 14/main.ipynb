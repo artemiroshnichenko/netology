{
 "metadata": {
  "language_info": {
   "codemirror_mode": {
    "name": "ipython",
    "version": 3
   },
   "file_extension": ".py",
   "mimetype": "text/x-python",
   "name": "python",
   "nbconvert_exporter": "python",
   "pygments_lexer": "ipython3",
   "version": "3.9.1-final"
  },
  "orig_nbformat": 2,
  "kernelspec": {
   "name": "python391jvsc74a57bd0397704579725e15f5c7cb49fe5f0341eb7531c82d19f2c29d197e8b64ab5776b",
   "display_name": "Python 3.9.1 64-bit"
  },
  "metadata": {
   "interpreter": {
    "hash": "397704579725e15f5c7cb49fe5f0341eb7531c82d19f2c29d197e8b64ab5776b"
   }
  }
 },
 "nbformat": 4,
 "nbformat_minor": 2,
 "cells": [
  {
   "cell_type": "code",
   "execution_count": 2,
   "metadata": {},
   "outputs": [],
   "source": [
    "import pandas as pd"
   ]
  },
  {
   "cell_type": "code",
   "execution_count": 8,
   "metadata": {},
   "outputs": [
    {
     "output_type": "execute_result",
     "data": {
      "text/plain": [
       "  0   1        2      3    4   5  6  7  8  9   ...     18    19 20    21 22  \\\n",
       "0  2   1   530101  38.50   66  28  3  3  ?  2  ...  45.00  8.40  ?     ?  2   \n",
       "1  1   1   534817   39.2   88  20  ?  ?  4  1  ...     50    85  2     2  3   \n",
       "2  2   1   530334  38.30   40  24  1  1  3  1  ...  33.00  6.70  ?     ?  1   \n",
       "3  1   9  5290409  39.10  164  84  4  1  6  2  ...  48.00  7.20  3  5.30  2   \n",
       "4  2   1   530255  37.30  104  35  ?  ?  6  2  ...  74.00  7.40  ?     ?  2   \n",
       "\n",
       "  23     24 25 26 27  \n",
       "0  2  11300  0  0  2  \n",
       "1  2   2208  0  0  2  \n",
       "2  2      0  0  0  1  \n",
       "3  1   2208  0  0  1  \n",
       "4  2   4300  0  0  2  \n",
       "\n",
       "[5 rows x 28 columns]"
      ],
      "text/html": "<div>\n<style scoped>\n    .dataframe tbody tr th:only-of-type {\n        vertical-align: middle;\n    }\n\n    .dataframe tbody tr th {\n        vertical-align: top;\n    }\n\n    .dataframe thead th {\n        text-align: right;\n    }\n</style>\n<table border=\"1\" class=\"dataframe\">\n  <thead>\n    <tr style=\"text-align: right;\">\n      <th></th>\n      <th>0</th>\n      <th>1</th>\n      <th>2</th>\n      <th>3</th>\n      <th>4</th>\n      <th>5</th>\n      <th>6</th>\n      <th>7</th>\n      <th>8</th>\n      <th>9</th>\n      <th>...</th>\n      <th>18</th>\n      <th>19</th>\n      <th>20</th>\n      <th>21</th>\n      <th>22</th>\n      <th>23</th>\n      <th>24</th>\n      <th>25</th>\n      <th>26</th>\n      <th>27</th>\n    </tr>\n  </thead>\n  <tbody>\n    <tr>\n      <th>0</th>\n      <td>2</td>\n      <td>1</td>\n      <td>530101</td>\n      <td>38.50</td>\n      <td>66</td>\n      <td>28</td>\n      <td>3</td>\n      <td>3</td>\n      <td>?</td>\n      <td>2</td>\n      <td>...</td>\n      <td>45.00</td>\n      <td>8.40</td>\n      <td>?</td>\n      <td>?</td>\n      <td>2</td>\n      <td>2</td>\n      <td>11300</td>\n      <td>0</td>\n      <td>0</td>\n      <td>2</td>\n    </tr>\n    <tr>\n      <th>1</th>\n      <td>1</td>\n      <td>1</td>\n      <td>534817</td>\n      <td>39.2</td>\n      <td>88</td>\n      <td>20</td>\n      <td>?</td>\n      <td>?</td>\n      <td>4</td>\n      <td>1</td>\n      <td>...</td>\n      <td>50</td>\n      <td>85</td>\n      <td>2</td>\n      <td>2</td>\n      <td>3</td>\n      <td>2</td>\n      <td>2208</td>\n      <td>0</td>\n      <td>0</td>\n      <td>2</td>\n    </tr>\n    <tr>\n      <th>2</th>\n      <td>2</td>\n      <td>1</td>\n      <td>530334</td>\n      <td>38.30</td>\n      <td>40</td>\n      <td>24</td>\n      <td>1</td>\n      <td>1</td>\n      <td>3</td>\n      <td>1</td>\n      <td>...</td>\n      <td>33.00</td>\n      <td>6.70</td>\n      <td>?</td>\n      <td>?</td>\n      <td>1</td>\n      <td>2</td>\n      <td>0</td>\n      <td>0</td>\n      <td>0</td>\n      <td>1</td>\n    </tr>\n    <tr>\n      <th>3</th>\n      <td>1</td>\n      <td>9</td>\n      <td>5290409</td>\n      <td>39.10</td>\n      <td>164</td>\n      <td>84</td>\n      <td>4</td>\n      <td>1</td>\n      <td>6</td>\n      <td>2</td>\n      <td>...</td>\n      <td>48.00</td>\n      <td>7.20</td>\n      <td>3</td>\n      <td>5.30</td>\n      <td>2</td>\n      <td>1</td>\n      <td>2208</td>\n      <td>0</td>\n      <td>0</td>\n      <td>1</td>\n    </tr>\n    <tr>\n      <th>4</th>\n      <td>2</td>\n      <td>1</td>\n      <td>530255</td>\n      <td>37.30</td>\n      <td>104</td>\n      <td>35</td>\n      <td>?</td>\n      <td>?</td>\n      <td>6</td>\n      <td>2</td>\n      <td>...</td>\n      <td>74.00</td>\n      <td>7.40</td>\n      <td>?</td>\n      <td>?</td>\n      <td>2</td>\n      <td>2</td>\n      <td>4300</td>\n      <td>0</td>\n      <td>0</td>\n      <td>2</td>\n    </tr>\n  </tbody>\n</table>\n<p>5 rows × 28 columns</p>\n</div>"
     },
     "metadata": {},
     "execution_count": 8
    }
   ],
   "source": [
    "raw = pd.read_csv('https://raw.githubusercontent.com/obulygin/pyda_homeworks/master/statistics_basics/horse_data.csv', header=None)\n",
    "raw.head()"
   ]
  },
  {
   "cell_type": "code",
   "execution_count": 14,
   "metadata": {},
   "outputs": [
    {
     "output_type": "execute_result",
     "data": {
      "text/plain": [
       "  0   1      3    4  11     18    19 22\n",
       "0  2   1  38.50   66  4  45.00  8.40  2\n",
       "1  1   1   39.2   88  4     50    85  3\n",
       "2  2   1  38.30   40  3  33.00  6.70  1\n",
       "3  1   9  39.10  164  4  48.00  7.20  2\n",
       "4  2   1  37.30  104  ?  74.00  7.40  2"
      ],
      "text/html": "<div>\n<style scoped>\n    .dataframe tbody tr th:only-of-type {\n        vertical-align: middle;\n    }\n\n    .dataframe tbody tr th {\n        vertical-align: top;\n    }\n\n    .dataframe thead th {\n        text-align: right;\n    }\n</style>\n<table border=\"1\" class=\"dataframe\">\n  <thead>\n    <tr style=\"text-align: right;\">\n      <th></th>\n      <th>0</th>\n      <th>1</th>\n      <th>3</th>\n      <th>4</th>\n      <th>11</th>\n      <th>18</th>\n      <th>19</th>\n      <th>22</th>\n    </tr>\n  </thead>\n  <tbody>\n    <tr>\n      <th>0</th>\n      <td>2</td>\n      <td>1</td>\n      <td>38.50</td>\n      <td>66</td>\n      <td>4</td>\n      <td>45.00</td>\n      <td>8.40</td>\n      <td>2</td>\n    </tr>\n    <tr>\n      <th>1</th>\n      <td>1</td>\n      <td>1</td>\n      <td>39.2</td>\n      <td>88</td>\n      <td>4</td>\n      <td>50</td>\n      <td>85</td>\n      <td>3</td>\n    </tr>\n    <tr>\n      <th>2</th>\n      <td>2</td>\n      <td>1</td>\n      <td>38.30</td>\n      <td>40</td>\n      <td>3</td>\n      <td>33.00</td>\n      <td>6.70</td>\n      <td>1</td>\n    </tr>\n    <tr>\n      <th>3</th>\n      <td>1</td>\n      <td>9</td>\n      <td>39.10</td>\n      <td>164</td>\n      <td>4</td>\n      <td>48.00</td>\n      <td>7.20</td>\n      <td>2</td>\n    </tr>\n    <tr>\n      <th>4</th>\n      <td>2</td>\n      <td>1</td>\n      <td>37.30</td>\n      <td>104</td>\n      <td>?</td>\n      <td>74.00</td>\n      <td>7.40</td>\n      <td>2</td>\n    </tr>\n  </tbody>\n</table>\n</div>"
     },
     "metadata": {},
     "execution_count": 14
    }
   ],
   "source": [
    "data = raw[[0, 1, 3, 4, 11, 18, 19, 22]]\n",
    "data.head()"
   ]
  },
  {
   "cell_type": "code",
   "execution_count": null,
   "metadata": {},
   "outputs": [],
   "source": []
  }
 ]
}