{
 "metadata": {
  "language_info": {
   "codemirror_mode": {
    "name": "ipython",
    "version": 3
   },
   "file_extension": ".py",
   "mimetype": "text/x-python",
   "name": "python",
   "nbconvert_exporter": "python",
   "pygments_lexer": "ipython3",
   "version": "3.9.1"
  },
  "orig_nbformat": 2,
  "kernelspec": {
   "name": "python391jvsc74a57bd0397704579725e15f5c7cb49fe5f0341eb7531c82d19f2c29d197e8b64ab5776b",
   "display_name": "Python 3.9.1 64-bit"
  },
  "metadata": {
   "interpreter": {
    "hash": "397704579725e15f5c7cb49fe5f0341eb7531c82d19f2c29d197e8b64ab5776b"
   }
  }
 },
 "nbformat": 4,
 "nbformat_minor": 2,
 "cells": [
  {
   "cell_type": "code",
   "execution_count": 1,
   "metadata": {},
   "outputs": [
    {
     "output_type": "stream",
     "name": "stderr",
     "text": [
      "/home/odyssey/.local/lib/python3.9/site-packages/pandas/compat/__init__.py:97: UserWarning: Could not import the lzma module. Your installed Python is incomplete. Attempting to use lzma compression will result in a RuntimeError.\n  warnings.warn(msg)\n"
     ]
    }
   ],
   "source": [
    "import pandas as pd"
   ]
  },
  {
   "cell_type": "code",
   "execution_count": 2,
   "metadata": {},
   "outputs": [
    {
     "output_type": "execute_result",
     "data": {
      "text/plain": [
       "    0   1        2     3      4     5    6    7    8    9   ...    18    19  \\\n",
       "0  2.0   1   530101  38.5   66.0  28.0  3.0  3.0  NaN  2.0  ...  45.0   8.4   \n",
       "1  1.0   1   534817  39.2   88.0  20.0  NaN  NaN  4.0  1.0  ...  50.0  85.0   \n",
       "2  2.0   1   530334  38.3   40.0  24.0  1.0  1.0  3.0  1.0  ...  33.0   6.7   \n",
       "3  1.0   9  5290409  39.1  164.0  84.0  4.0  1.0  6.0  2.0  ...  48.0   7.2   \n",
       "4  2.0   1   530255  37.3  104.0  35.0  NaN  NaN  6.0  2.0  ...  74.0   7.4   \n",
       "\n",
       "    20   21   22  23     24  25  26  27  \n",
       "0  NaN  NaN  2.0   2  11300   0   0   2  \n",
       "1  2.0  2.0  3.0   2   2208   0   0   2  \n",
       "2  NaN  NaN  1.0   2      0   0   0   1  \n",
       "3  3.0  5.3  2.0   1   2208   0   0   1  \n",
       "4  NaN  NaN  2.0   2   4300   0   0   2  \n",
       "\n",
       "[5 rows x 28 columns]"
      ],
      "text/html": "<div>\n<style scoped>\n    .dataframe tbody tr th:only-of-type {\n        vertical-align: middle;\n    }\n\n    .dataframe tbody tr th {\n        vertical-align: top;\n    }\n\n    .dataframe thead th {\n        text-align: right;\n    }\n</style>\n<table border=\"1\" class=\"dataframe\">\n  <thead>\n    <tr style=\"text-align: right;\">\n      <th></th>\n      <th>0</th>\n      <th>1</th>\n      <th>2</th>\n      <th>3</th>\n      <th>4</th>\n      <th>5</th>\n      <th>6</th>\n      <th>7</th>\n      <th>8</th>\n      <th>9</th>\n      <th>...</th>\n      <th>18</th>\n      <th>19</th>\n      <th>20</th>\n      <th>21</th>\n      <th>22</th>\n      <th>23</th>\n      <th>24</th>\n      <th>25</th>\n      <th>26</th>\n      <th>27</th>\n    </tr>\n  </thead>\n  <tbody>\n    <tr>\n      <th>0</th>\n      <td>2.0</td>\n      <td>1</td>\n      <td>530101</td>\n      <td>38.5</td>\n      <td>66.0</td>\n      <td>28.0</td>\n      <td>3.0</td>\n      <td>3.0</td>\n      <td>NaN</td>\n      <td>2.0</td>\n      <td>...</td>\n      <td>45.0</td>\n      <td>8.4</td>\n      <td>NaN</td>\n      <td>NaN</td>\n      <td>2.0</td>\n      <td>2</td>\n      <td>11300</td>\n      <td>0</td>\n      <td>0</td>\n      <td>2</td>\n    </tr>\n    <tr>\n      <th>1</th>\n      <td>1.0</td>\n      <td>1</td>\n      <td>534817</td>\n      <td>39.2</td>\n      <td>88.0</td>\n      <td>20.0</td>\n      <td>NaN</td>\n      <td>NaN</td>\n      <td>4.0</td>\n      <td>1.0</td>\n      <td>...</td>\n      <td>50.0</td>\n      <td>85.0</td>\n      <td>2.0</td>\n      <td>2.0</td>\n      <td>3.0</td>\n      <td>2</td>\n      <td>2208</td>\n      <td>0</td>\n      <td>0</td>\n      <td>2</td>\n    </tr>\n    <tr>\n      <th>2</th>\n      <td>2.0</td>\n      <td>1</td>\n      <td>530334</td>\n      <td>38.3</td>\n      <td>40.0</td>\n      <td>24.0</td>\n      <td>1.0</td>\n      <td>1.0</td>\n      <td>3.0</td>\n      <td>1.0</td>\n      <td>...</td>\n      <td>33.0</td>\n      <td>6.7</td>\n      <td>NaN</td>\n      <td>NaN</td>\n      <td>1.0</td>\n      <td>2</td>\n      <td>0</td>\n      <td>0</td>\n      <td>0</td>\n      <td>1</td>\n    </tr>\n    <tr>\n      <th>3</th>\n      <td>1.0</td>\n      <td>9</td>\n      <td>5290409</td>\n      <td>39.1</td>\n      <td>164.0</td>\n      <td>84.0</td>\n      <td>4.0</td>\n      <td>1.0</td>\n      <td>6.0</td>\n      <td>2.0</td>\n      <td>...</td>\n      <td>48.0</td>\n      <td>7.2</td>\n      <td>3.0</td>\n      <td>5.3</td>\n      <td>2.0</td>\n      <td>1</td>\n      <td>2208</td>\n      <td>0</td>\n      <td>0</td>\n      <td>1</td>\n    </tr>\n    <tr>\n      <th>4</th>\n      <td>2.0</td>\n      <td>1</td>\n      <td>530255</td>\n      <td>37.3</td>\n      <td>104.0</td>\n      <td>35.0</td>\n      <td>NaN</td>\n      <td>NaN</td>\n      <td>6.0</td>\n      <td>2.0</td>\n      <td>...</td>\n      <td>74.0</td>\n      <td>7.4</td>\n      <td>NaN</td>\n      <td>NaN</td>\n      <td>2.0</td>\n      <td>2</td>\n      <td>4300</td>\n      <td>0</td>\n      <td>0</td>\n      <td>2</td>\n    </tr>\n  </tbody>\n</table>\n<p>5 rows × 28 columns</p>\n</div>"
     },
     "metadata": {},
     "execution_count": 2
    }
   ],
   "source": [
    "raw = pd.read_csv('https://raw.githubusercontent.com/obulygin/pyda_homeworks/master/statistics_basics/horse_data.csv', header=None, na_values='?')\n",
    "raw.head()"
   ]
  },
  {
   "cell_type": "code",
   "execution_count": 3,
   "metadata": {},
   "outputs": [
    {
     "output_type": "execute_result",
     "data": {
      "text/plain": [
       "   surgery  age  temperature  pulse  pain  cell  protein  outcome\n",
       "0      2.0    1         38.5   66.0   4.0  45.0      8.4      2.0\n",
       "1      1.0    1         39.2   88.0   4.0  50.0     85.0      3.0\n",
       "2      2.0    1         38.3   40.0   3.0  33.0      6.7      1.0\n",
       "3      1.0    9         39.1  164.0   4.0  48.0      7.2      2.0\n",
       "4      2.0    1         37.3  104.0   NaN  74.0      7.4      2.0"
      ],
      "text/html": "<div>\n<style scoped>\n    .dataframe tbody tr th:only-of-type {\n        vertical-align: middle;\n    }\n\n    .dataframe tbody tr th {\n        vertical-align: top;\n    }\n\n    .dataframe thead th {\n        text-align: right;\n    }\n</style>\n<table border=\"1\" class=\"dataframe\">\n  <thead>\n    <tr style=\"text-align: right;\">\n      <th></th>\n      <th>surgery</th>\n      <th>age</th>\n      <th>temperature</th>\n      <th>pulse</th>\n      <th>pain</th>\n      <th>cell</th>\n      <th>protein</th>\n      <th>outcome</th>\n    </tr>\n  </thead>\n  <tbody>\n    <tr>\n      <th>0</th>\n      <td>2.0</td>\n      <td>1</td>\n      <td>38.5</td>\n      <td>66.0</td>\n      <td>4.0</td>\n      <td>45.0</td>\n      <td>8.4</td>\n      <td>2.0</td>\n    </tr>\n    <tr>\n      <th>1</th>\n      <td>1.0</td>\n      <td>1</td>\n      <td>39.2</td>\n      <td>88.0</td>\n      <td>4.0</td>\n      <td>50.0</td>\n      <td>85.0</td>\n      <td>3.0</td>\n    </tr>\n    <tr>\n      <th>2</th>\n      <td>2.0</td>\n      <td>1</td>\n      <td>38.3</td>\n      <td>40.0</td>\n      <td>3.0</td>\n      <td>33.0</td>\n      <td>6.7</td>\n      <td>1.0</td>\n    </tr>\n    <tr>\n      <th>3</th>\n      <td>1.0</td>\n      <td>9</td>\n      <td>39.1</td>\n      <td>164.0</td>\n      <td>4.0</td>\n      <td>48.0</td>\n      <td>7.2</td>\n      <td>2.0</td>\n    </tr>\n    <tr>\n      <th>4</th>\n      <td>2.0</td>\n      <td>1</td>\n      <td>37.3</td>\n      <td>104.0</td>\n      <td>NaN</td>\n      <td>74.0</td>\n      <td>7.4</td>\n      <td>2.0</td>\n    </tr>\n  </tbody>\n</table>\n</div>"
     },
     "metadata": {},
     "execution_count": 3
    }
   ],
   "source": [
    "data = raw[[0, 1, 3, 4, 11, 18, 19, 22]].rename(columns={0:'surgery', 1:'age', 3:'temperature',\n",
    "                                                         4:'pulse', 11:'pain', 18:'cell',                                                                      19:'protein', 22:'outcome'})\n",
    "#data.age = data.age.astype(str)\n",
    "#data.surgery = data.surgery.astype(str)\n",
    "#data.pain = data.pain.astype(str)\n",
    "#data.outcome = data.outcome.astype(str)\n",
    "\n",
    "data.temperature = data.temperature.astype(float)\n",
    "data.pulse = data.pulse.astype(float)\n",
    "data.cell = data.cell.astype(float)\n",
    "data.protein = data.protein.astype(float)\n",
    "data.head()"
   ]
  },
  {
   "cell_type": "code",
   "execution_count": 4,
   "metadata": {},
   "outputs": [
    {
     "output_type": "execute_result",
     "data": {
      "text/plain": [
       "          surgery         age  temperature       pulse        pain  \\\n",
       "count  299.000000  300.000000   240.000000  276.000000  256.000000   \n",
       "mean     1.397993    1.640000    38.167917   71.913043    2.917969   \n",
       "std      0.490305    2.173972     0.732289   28.630557    0.976744   \n",
       "min      1.000000    1.000000    35.400000   30.000000    1.000000   \n",
       "25%      1.000000    1.000000    37.800000   48.000000    3.000000   \n",
       "50%      1.000000    1.000000    38.200000   64.000000    3.000000   \n",
       "75%      2.000000    1.000000    38.500000   88.000000    4.000000   \n",
       "max      2.000000    9.000000    40.800000  184.000000    4.000000   \n",
       "\n",
       "             cell     protein     outcome  \n",
       "count  271.000000  267.000000  299.000000  \n",
       "mean    46.295203   24.456929    1.551839  \n",
       "std     10.419335   27.475009    0.737187  \n",
       "min     23.000000    3.300000    1.000000  \n",
       "25%     38.000000    6.500000    1.000000  \n",
       "50%     45.000000    7.500000    1.000000  \n",
       "75%     52.000000   57.000000    2.000000  \n",
       "max     75.000000   89.000000    3.000000  "
      ],
      "text/html": "<div>\n<style scoped>\n    .dataframe tbody tr th:only-of-type {\n        vertical-align: middle;\n    }\n\n    .dataframe tbody tr th {\n        vertical-align: top;\n    }\n\n    .dataframe thead th {\n        text-align: right;\n    }\n</style>\n<table border=\"1\" class=\"dataframe\">\n  <thead>\n    <tr style=\"text-align: right;\">\n      <th></th>\n      <th>surgery</th>\n      <th>age</th>\n      <th>temperature</th>\n      <th>pulse</th>\n      <th>pain</th>\n      <th>cell</th>\n      <th>protein</th>\n      <th>outcome</th>\n    </tr>\n  </thead>\n  <tbody>\n    <tr>\n      <th>count</th>\n      <td>299.000000</td>\n      <td>300.000000</td>\n      <td>240.000000</td>\n      <td>276.000000</td>\n      <td>256.000000</td>\n      <td>271.000000</td>\n      <td>267.000000</td>\n      <td>299.000000</td>\n    </tr>\n    <tr>\n      <th>mean</th>\n      <td>1.397993</td>\n      <td>1.640000</td>\n      <td>38.167917</td>\n      <td>71.913043</td>\n      <td>2.917969</td>\n      <td>46.295203</td>\n      <td>24.456929</td>\n      <td>1.551839</td>\n    </tr>\n    <tr>\n      <th>std</th>\n      <td>0.490305</td>\n      <td>2.173972</td>\n      <td>0.732289</td>\n      <td>28.630557</td>\n      <td>0.976744</td>\n      <td>10.419335</td>\n      <td>27.475009</td>\n      <td>0.737187</td>\n    </tr>\n    <tr>\n      <th>min</th>\n      <td>1.000000</td>\n      <td>1.000000</td>\n      <td>35.400000</td>\n      <td>30.000000</td>\n      <td>1.000000</td>\n      <td>23.000000</td>\n      <td>3.300000</td>\n      <td>1.000000</td>\n    </tr>\n    <tr>\n      <th>25%</th>\n      <td>1.000000</td>\n      <td>1.000000</td>\n      <td>37.800000</td>\n      <td>48.000000</td>\n      <td>3.000000</td>\n      <td>38.000000</td>\n      <td>6.500000</td>\n      <td>1.000000</td>\n    </tr>\n    <tr>\n      <th>50%</th>\n      <td>1.000000</td>\n      <td>1.000000</td>\n      <td>38.200000</td>\n      <td>64.000000</td>\n      <td>3.000000</td>\n      <td>45.000000</td>\n      <td>7.500000</td>\n      <td>1.000000</td>\n    </tr>\n    <tr>\n      <th>75%</th>\n      <td>2.000000</td>\n      <td>1.000000</td>\n      <td>38.500000</td>\n      <td>88.000000</td>\n      <td>4.000000</td>\n      <td>52.000000</td>\n      <td>57.000000</td>\n      <td>2.000000</td>\n    </tr>\n    <tr>\n      <th>max</th>\n      <td>2.000000</td>\n      <td>9.000000</td>\n      <td>40.800000</td>\n      <td>184.000000</td>\n      <td>4.000000</td>\n      <td>75.000000</td>\n      <td>89.000000</td>\n      <td>3.000000</td>\n    </tr>\n  </tbody>\n</table>\n</div>"
     },
     "metadata": {},
     "execution_count": 4
    }
   ],
   "source": [
    "data.describe()"
   ]
  },
  {
   "cell_type": "code",
   "execution_count": 5,
   "metadata": {},
   "outputs": [
    {
     "output_type": "execute_result",
     "data": {
      "text/plain": [
       "       surgery  age  temperature  pulse  pain  cell  protein  outcome\n",
       "count      0.0  0.0          0.0    0.0   0.0   0.0      0.0      0.0\n",
       "mean       NaN  NaN          NaN    NaN   NaN   NaN      NaN      NaN\n",
       "std        NaN  NaN          NaN    NaN   NaN   NaN      NaN      NaN\n",
       "min        NaN  NaN          NaN    NaN   NaN   NaN      NaN      NaN\n",
       "25%        NaN  NaN          NaN    NaN   NaN   NaN      NaN      NaN\n",
       "50%        NaN  NaN          NaN    NaN   NaN   NaN      NaN      NaN\n",
       "75%        NaN  NaN          NaN    NaN   NaN   NaN      NaN      NaN\n",
       "max        NaN  NaN          NaN    NaN   NaN   NaN      NaN      NaN"
      ],
      "text/html": "<div>\n<style scoped>\n    .dataframe tbody tr th:only-of-type {\n        vertical-align: middle;\n    }\n\n    .dataframe tbody tr th {\n        vertical-align: top;\n    }\n\n    .dataframe thead th {\n        text-align: right;\n    }\n</style>\n<table border=\"1\" class=\"dataframe\">\n  <thead>\n    <tr style=\"text-align: right;\">\n      <th></th>\n      <th>surgery</th>\n      <th>age</th>\n      <th>temperature</th>\n      <th>pulse</th>\n      <th>pain</th>\n      <th>cell</th>\n      <th>protein</th>\n      <th>outcome</th>\n    </tr>\n  </thead>\n  <tbody>\n    <tr>\n      <th>count</th>\n      <td>0.0</td>\n      <td>0.0</td>\n      <td>0.0</td>\n      <td>0.0</td>\n      <td>0.0</td>\n      <td>0.0</td>\n      <td>0.0</td>\n      <td>0.0</td>\n    </tr>\n    <tr>\n      <th>mean</th>\n      <td>NaN</td>\n      <td>NaN</td>\n      <td>NaN</td>\n      <td>NaN</td>\n      <td>NaN</td>\n      <td>NaN</td>\n      <td>NaN</td>\n      <td>NaN</td>\n    </tr>\n    <tr>\n      <th>std</th>\n      <td>NaN</td>\n      <td>NaN</td>\n      <td>NaN</td>\n      <td>NaN</td>\n      <td>NaN</td>\n      <td>NaN</td>\n      <td>NaN</td>\n      <td>NaN</td>\n    </tr>\n    <tr>\n      <th>min</th>\n      <td>NaN</td>\n      <td>NaN</td>\n      <td>NaN</td>\n      <td>NaN</td>\n      <td>NaN</td>\n      <td>NaN</td>\n      <td>NaN</td>\n      <td>NaN</td>\n    </tr>\n    <tr>\n      <th>25%</th>\n      <td>NaN</td>\n      <td>NaN</td>\n      <td>NaN</td>\n      <td>NaN</td>\n      <td>NaN</td>\n      <td>NaN</td>\n      <td>NaN</td>\n      <td>NaN</td>\n    </tr>\n    <tr>\n      <th>50%</th>\n      <td>NaN</td>\n      <td>NaN</td>\n      <td>NaN</td>\n      <td>NaN</td>\n      <td>NaN</td>\n      <td>NaN</td>\n      <td>NaN</td>\n      <td>NaN</td>\n    </tr>\n    <tr>\n      <th>75%</th>\n      <td>NaN</td>\n      <td>NaN</td>\n      <td>NaN</td>\n      <td>NaN</td>\n      <td>NaN</td>\n      <td>NaN</td>\n      <td>NaN</td>\n      <td>NaN</td>\n    </tr>\n    <tr>\n      <th>max</th>\n      <td>NaN</td>\n      <td>NaN</td>\n      <td>NaN</td>\n      <td>NaN</td>\n      <td>NaN</td>\n      <td>NaN</td>\n      <td>NaN</td>\n      <td>NaN</td>\n    </tr>\n  </tbody>\n</table>\n</div>"
     },
     "metadata": {},
     "execution_count": 5
    }
   ],
   "source": [
    "data[data['age'] == '1'].describe()"
   ]
  },
  {
   "cell_type": "code",
   "execution_count": 6,
   "metadata": {},
   "outputs": [
    {
     "output_type": "execute_result",
     "data": {
      "text/plain": [
       "       surgery  age  temperature  pulse  pain  cell  protein  outcome\n",
       "count      0.0  0.0          0.0    0.0   0.0   0.0      0.0      0.0\n",
       "mean       NaN  NaN          NaN    NaN   NaN   NaN      NaN      NaN\n",
       "std        NaN  NaN          NaN    NaN   NaN   NaN      NaN      NaN\n",
       "min        NaN  NaN          NaN    NaN   NaN   NaN      NaN      NaN\n",
       "25%        NaN  NaN          NaN    NaN   NaN   NaN      NaN      NaN\n",
       "50%        NaN  NaN          NaN    NaN   NaN   NaN      NaN      NaN\n",
       "75%        NaN  NaN          NaN    NaN   NaN   NaN      NaN      NaN\n",
       "max        NaN  NaN          NaN    NaN   NaN   NaN      NaN      NaN"
      ],
      "text/html": "<div>\n<style scoped>\n    .dataframe tbody tr th:only-of-type {\n        vertical-align: middle;\n    }\n\n    .dataframe tbody tr th {\n        vertical-align: top;\n    }\n\n    .dataframe thead th {\n        text-align: right;\n    }\n</style>\n<table border=\"1\" class=\"dataframe\">\n  <thead>\n    <tr style=\"text-align: right;\">\n      <th></th>\n      <th>surgery</th>\n      <th>age</th>\n      <th>temperature</th>\n      <th>pulse</th>\n      <th>pain</th>\n      <th>cell</th>\n      <th>protein</th>\n      <th>outcome</th>\n    </tr>\n  </thead>\n  <tbody>\n    <tr>\n      <th>count</th>\n      <td>0.0</td>\n      <td>0.0</td>\n      <td>0.0</td>\n      <td>0.0</td>\n      <td>0.0</td>\n      <td>0.0</td>\n      <td>0.0</td>\n      <td>0.0</td>\n    </tr>\n    <tr>\n      <th>mean</th>\n      <td>NaN</td>\n      <td>NaN</td>\n      <td>NaN</td>\n      <td>NaN</td>\n      <td>NaN</td>\n      <td>NaN</td>\n      <td>NaN</td>\n      <td>NaN</td>\n    </tr>\n    <tr>\n      <th>std</th>\n      <td>NaN</td>\n      <td>NaN</td>\n      <td>NaN</td>\n      <td>NaN</td>\n      <td>NaN</td>\n      <td>NaN</td>\n      <td>NaN</td>\n      <td>NaN</td>\n    </tr>\n    <tr>\n      <th>min</th>\n      <td>NaN</td>\n      <td>NaN</td>\n      <td>NaN</td>\n      <td>NaN</td>\n      <td>NaN</td>\n      <td>NaN</td>\n      <td>NaN</td>\n      <td>NaN</td>\n    </tr>\n    <tr>\n      <th>25%</th>\n      <td>NaN</td>\n      <td>NaN</td>\n      <td>NaN</td>\n      <td>NaN</td>\n      <td>NaN</td>\n      <td>NaN</td>\n      <td>NaN</td>\n      <td>NaN</td>\n    </tr>\n    <tr>\n      <th>50%</th>\n      <td>NaN</td>\n      <td>NaN</td>\n      <td>NaN</td>\n      <td>NaN</td>\n      <td>NaN</td>\n      <td>NaN</td>\n      <td>NaN</td>\n      <td>NaN</td>\n    </tr>\n    <tr>\n      <th>75%</th>\n      <td>NaN</td>\n      <td>NaN</td>\n      <td>NaN</td>\n      <td>NaN</td>\n      <td>NaN</td>\n      <td>NaN</td>\n      <td>NaN</td>\n      <td>NaN</td>\n    </tr>\n    <tr>\n      <th>max</th>\n      <td>NaN</td>\n      <td>NaN</td>\n      <td>NaN</td>\n      <td>NaN</td>\n      <td>NaN</td>\n      <td>NaN</td>\n      <td>NaN</td>\n      <td>NaN</td>\n    </tr>\n  </tbody>\n</table>\n</div>"
     },
     "metadata": {},
     "execution_count": 6
    }
   ],
   "source": [
    "data[data['age'] == '2'].describe()"
   ]
  },
  {
   "cell_type": "code",
   "execution_count": 7,
   "metadata": {},
   "outputs": [],
   "source": [
    "\"\"\"Мы видим что у нас нету молодых лошадей в датасете из-за этого можно заменить все значения в столбце age равные 9 на 1\"\"\"\n",
    "data.age = data.age.replace('9', '1')"
   ]
  },
  {
   "cell_type": "code",
   "execution_count": 8,
   "metadata": {},
   "outputs": [],
   "source": [
    "def emissions(data):\n",
    "    q1 = data.quantile(0.25)\n",
    "    q3 = data.quantile(0.75)\n",
    "    iqr = q3 - q1\n",
    "    bound1 = q1 - (1.5 * iqr)\n",
    "    bound2 = q3 + (1.5 * iqr)\n",
    "    x = [bound1, bound2]   \n",
    "    return x\n"
   ]
  },
  {
   "cell_type": "code",
   "execution_count": 9,
   "metadata": {},
   "outputs": [
    {
     "output_type": "stream",
     "name": "stdout",
     "text": [
      "surgery\n",
      "Empty DataFrame\n",
      "Columns: [surgery, age, temperature, pulse, pain, cell, protein, outcome]\n",
      "Index: []\n",
      "age\n",
      "     surgery  age  temperature  pulse  pain  cell  protein  outcome\n",
      "3        1.0    9         39.1  164.0   4.0  48.0      7.2      2.0\n",
      "9        2.0    9         38.3   90.0   3.0  40.0      6.2      1.0\n",
      "13       2.0    9         38.0   92.0   3.0  37.0      6.1      2.0\n",
      "16       1.0    9          NaN  128.0   4.0  53.0      7.8      2.0\n",
      "23       1.0    9         38.3  130.0   4.0  50.0     70.0      1.0\n",
      "39       1.0    9         39.2  146.0   NaN   NaN      NaN      2.0\n",
      "41       2.0    9         39.0  150.0   NaN  47.0      8.5      1.0\n",
      "55       1.0    9         38.6  160.0   3.0  38.0      NaN      2.0\n",
      "74       1.0    9          NaN    NaN   NaN  37.0      4.9      2.0\n",
      "75       1.0    9         39.7  100.0   3.0  48.0     57.0      3.0\n",
      "82       1.0    9         38.1  100.0   4.0  36.0      5.7      1.0\n",
      "103      1.0    9         38.0  140.0   3.0  39.0      5.3      1.0\n",
      "109      1.0    9         38.4   84.0   3.0  36.0      6.6      2.0\n",
      "135      1.0    9         38.1  136.0   1.0  33.0      4.9      2.0\n",
      "191      2.0    9          NaN  100.0   1.0  37.0      4.7      1.0\n",
      "212      1.0    9         38.9  120.0   3.0  47.0      6.3      1.0\n",
      "227      1.0    9          NaN    NaN   NaN  45.0      6.5      1.0\n",
      "229      1.0    9         38.5  120.0   1.0  35.0     54.0      1.0\n",
      "244      1.0    9         38.2  124.0   3.0  47.0      8.0      1.0\n",
      "252      1.0    9         38.8  124.0   3.0  50.0      7.6      2.0\n",
      "255      1.0    9         38.8  184.0   1.0  33.0      3.3      2.0\n",
      "262      2.0    9         38.6   88.0   NaN  35.0      5.9      1.0\n",
      "275      1.0    9         38.8  150.0   3.0  50.0      6.2      2.0\n",
      "287      2.0    9         39.5   84.0   NaN  28.0      5.0      1.0\n",
      "temperature\n",
      "     surgery  age  temperature  pulse  pain  cell  protein  outcome\n",
      "20       1.0    1         39.9   72.0   4.0  46.0      6.1      1.0\n",
      "44       1.0    1         35.4  140.0   4.0  57.0     69.0      3.0\n",
      "54       2.0    1         40.3  114.0   3.0  57.0      8.1      3.0\n",
      "75       1.0    9         39.7  100.0   3.0  48.0     57.0      3.0\n",
      "80       1.0    1         36.4   98.0   3.0  47.0      6.4      2.0\n",
      "91       2.0    1         40.3  114.0   3.0  57.0      8.1      2.0\n",
      "99       2.0    1         39.6  108.0   4.0  59.0      8.0      1.0\n",
      "118      1.0    1         36.5   78.0   3.0  34.0     75.0      1.0\n",
      "141      2.0    1         36.0   42.0   NaN  64.0      6.8      2.0\n",
      "238      2.0    1         36.1   88.0   3.0  45.0      7.0      3.0\n",
      "251      2.0    1         36.6   42.0   4.0  52.0      7.1      2.0\n",
      "259      1.0    1         40.8   72.0   3.0  54.0      7.4      2.0\n",
      "281      2.0    1         40.0   78.0   3.0  66.0      6.5      2.0\n",
      "298      1.0    1         36.5  100.0   3.0  50.0      6.0      1.0\n",
      "pulse\n",
      "     surgery  age  temperature  pulse  pain  cell  protein  outcome\n",
      "3        1.0    9         39.1  164.0   4.0  48.0      7.2      2.0\n",
      "41       2.0    9         39.0  150.0   NaN  47.0      8.5      1.0\n",
      "55       1.0    9         38.6  160.0   3.0  38.0      NaN      2.0\n",
      "255      1.0    9         38.8  184.0   1.0  33.0      3.3      2.0\n",
      "275      1.0    9         38.8  150.0   3.0  50.0      6.2      2.0\n",
      "pain\n",
      "     surgery  age  temperature  pulse  pain  cell  protein  outcome\n",
      "11       2.0    1         39.1   72.0   1.0  50.0      7.8      1.0\n",
      "29       2.0    1         37.7   48.0   1.0  45.0     76.0      1.0\n",
      "33       1.0    1         38.2   64.0   1.0  49.0      8.6      1.0\n",
      "47       2.0    1         37.5   48.0   1.0  37.0      6.5      1.0\n",
      "49       2.0    1         37.2   84.0   1.0  73.0      5.5      2.0\n",
      "60       2.0    1         37.8   48.0   1.0  37.0      6.7      1.0\n",
      "77       2.0    1         38.7   52.0   1.0  33.0     77.0      1.0\n",
      "85       2.0    1         38.0   54.0   1.0  45.0      6.2      1.0\n",
      "89       2.0    1         38.3   42.0   1.0  38.0     61.0      1.0\n",
      "92       2.0    1         38.8   50.0   1.0  42.0      6.2      1.0\n",
      "122      2.0    1         38.7   40.0   1.0  39.0     62.0      1.0\n",
      "124      2.0    1         37.6   48.0   1.0  37.0      5.5      3.0\n",
      "135      1.0    9         38.1  136.0   1.0  33.0      4.9      2.0\n",
      "138      2.0    1         38.0   56.0   1.0  42.0     71.0      1.0\n",
      "149      2.0    1         38.7   48.0   1.0  34.0     63.0      1.0\n",
      "159      2.0    1          NaN    NaN   1.0  44.0      7.5      1.0\n",
      "166      1.0    1         38.3   40.0   1.0  43.0      5.9      1.0\n",
      "170      2.0    1         37.5   44.0   1.0  35.0      7.2      1.0\n",
      "183      2.0    1         37.8   56.0   1.0  44.0     68.0      1.0\n",
      "184      2.0    1         38.2   68.0   1.0  43.0     65.0      1.0\n",
      "188      1.0    1         38.5   60.0   1.0  33.0     53.0      1.0\n",
      "189      1.0    1         38.3   60.0   1.0  30.0      6.0      1.0\n",
      "191      2.0    9          NaN  100.0   1.0  37.0      4.7      1.0\n",
      "195      2.0    1         38.0   44.0   1.0  42.0     64.0      1.0\n",
      "199      2.0    1         38.5   60.0   1.0  49.0     59.0      1.0\n",
      "200      1.0    1         37.3   48.0   1.0  40.0      6.6      1.0\n",
      "209      2.0    1         37.5   44.0   1.0  43.0     51.0      1.0\n",
      "214      2.0    1         38.6   56.0   1.0  40.0      7.0      1.0\n",
      "224      1.0    1         38.8   50.0   1.0  38.0     58.0      1.0\n",
      "229      1.0    9         38.5  120.0   1.0  35.0     54.0      1.0\n",
      "236      2.0    1         38.2   42.0   1.0  36.0      6.9      1.0\n",
      "237      2.0    1         37.9   54.0   1.0  47.0     54.0      1.0\n",
      "255      1.0    9         38.8  184.0   1.0  33.0      3.3      2.0\n",
      "256      1.0    1         37.5   72.0   1.0  35.0     65.0      3.0\n",
      "278      2.0    1         37.8   40.0   1.0  37.0      6.8      1.0\n",
      "280      1.0    1         38.6   48.0   1.0  36.0     67.0      1.0\n",
      "284      2.0    1         38.5   54.0   1.0  40.0      6.8      1.0\n",
      "290      2.0    1         38.6   45.0   1.0  43.0     58.0      1.0\n",
      "294      2.0    1         38.5   40.0   1.0  37.0     67.0      1.0\n",
      "cell\n",
      "     surgery  age  temperature  pulse  pain  cell  protein  outcome\n",
      "4        2.0    1         37.3  104.0   NaN  74.0      7.4      2.0\n",
      "144      1.0    1         37.1   84.0   4.0  75.0     81.0      3.0\n",
      "151      1.0    1         39.3    NaN   4.0  75.0      NaN      2.0\n",
      "protein\n",
      "Empty DataFrame\n",
      "Columns: [surgery, age, temperature, pulse, pain, cell, protein, outcome]\n",
      "Index: []\n",
      "outcome\n",
      "Empty DataFrame\n",
      "Columns: [surgery, age, temperature, pulse, pain, cell, protein, outcome]\n",
      "Index: []\n"
     ]
    }
   ],
   "source": [
    "for i in data.describe():\n",
    "    iqr = emissions(data[i])\n",
    "    print(i)\n",
    "    print(data[(data[i]<iqr[0]) | (data[i]>iqr[1])])\n",
    "    "
   ]
  },
  {
   "cell_type": "code",
   "execution_count": 10,
   "metadata": {},
   "outputs": [
    {
     "output_type": "execute_result",
     "data": {
      "text/plain": [
       "'Оставляем все выбросы, из-за того что они возможны в реальной жизни, повышеная температура может быть при заболевании, повышеный пульс у нас у лошадей у которых выше температура - нормальная реакция организма, повышены эритроциты могут быть при врожденной паталогии сердца или легких '"
      ]
     },
     "metadata": {},
     "execution_count": 10
    }
   ],
   "source": [
    "\"\"\"Оставляем все выбросы, из-за того что они возможны в реальной жизни, повышеная температура может быть при заболевании, повышеный пульс у нас у лошадей у которых выше температура - нормальная реакция организма, повышены эритроциты могут быть при врожденной паталогии сердца или легких \"\"\""
   ]
  },
  {
   "cell_type": "code",
   "execution_count": 11,
   "metadata": {},
   "outputs": [
    {
     "output_type": "stream",
     "name": "stdout",
     "text": [
      "surgery         1\nage             0\ntemperature    60\npulse          24\npain           44\ncell           29\nprotein        33\noutcome         1\ndtype: int64\n"
     ]
    }
   ],
   "source": [
    "print(data.isna().sum())"
   ]
  },
  {
   "cell_type": "code",
   "execution_count": 12,
   "metadata": {},
   "outputs": [
    {
     "output_type": "execute_result",
     "data": {
      "text/plain": [
       "                      age  temperature      pulse      pain       cell  \\\n",
       "surgery outcome                                                          \n",
       "1.0     1.0      1.589474    38.146250  68.715909  2.988235  43.267045   \n",
       "        2.0      2.379310    38.187179  88.183673  3.326087  50.705882   \n",
       "        3.0      1.296296    38.052381  80.037037  3.333333  50.909091   \n",
       "2.0     1.0      1.481928    38.240278  57.448718  2.267606  42.110390   \n",
       "        2.0      1.421053    38.157143  84.470588  3.437500  57.722222   \n",
       "        3.0      1.000000    38.053846  84.625000  3.153846  50.571429   \n",
       "\n",
       "                   protein  \n",
       "surgery outcome             \n",
       "1.0     1.0      26.664368  \n",
       "        2.0       6.842857  \n",
       "        3.0      60.918182  \n",
       "2.0     1.0      27.934615  \n",
       "        2.0       6.850000  \n",
       "        3.0      12.371429  "
      ],
      "text/html": "<div>\n<style scoped>\n    .dataframe tbody tr th:only-of-type {\n        vertical-align: middle;\n    }\n\n    .dataframe tbody tr th {\n        vertical-align: top;\n    }\n\n    .dataframe thead th {\n        text-align: right;\n    }\n</style>\n<table border=\"1\" class=\"dataframe\">\n  <thead>\n    <tr style=\"text-align: right;\">\n      <th></th>\n      <th></th>\n      <th>age</th>\n      <th>temperature</th>\n      <th>pulse</th>\n      <th>pain</th>\n      <th>cell</th>\n      <th>protein</th>\n    </tr>\n    <tr>\n      <th>surgery</th>\n      <th>outcome</th>\n      <th></th>\n      <th></th>\n      <th></th>\n      <th></th>\n      <th></th>\n      <th></th>\n    </tr>\n  </thead>\n  <tbody>\n    <tr>\n      <th rowspan=\"3\" valign=\"top\">1.0</th>\n      <th>1.0</th>\n      <td>1.589474</td>\n      <td>38.146250</td>\n      <td>68.715909</td>\n      <td>2.988235</td>\n      <td>43.267045</td>\n      <td>26.664368</td>\n    </tr>\n    <tr>\n      <th>2.0</th>\n      <td>2.379310</td>\n      <td>38.187179</td>\n      <td>88.183673</td>\n      <td>3.326087</td>\n      <td>50.705882</td>\n      <td>6.842857</td>\n    </tr>\n    <tr>\n      <th>3.0</th>\n      <td>1.296296</td>\n      <td>38.052381</td>\n      <td>80.037037</td>\n      <td>3.333333</td>\n      <td>50.909091</td>\n      <td>60.918182</td>\n    </tr>\n    <tr>\n      <th rowspan=\"3\" valign=\"top\">2.0</th>\n      <th>1.0</th>\n      <td>1.481928</td>\n      <td>38.240278</td>\n      <td>57.448718</td>\n      <td>2.267606</td>\n      <td>42.110390</td>\n      <td>27.934615</td>\n    </tr>\n    <tr>\n      <th>2.0</th>\n      <td>1.421053</td>\n      <td>38.157143</td>\n      <td>84.470588</td>\n      <td>3.437500</td>\n      <td>57.722222</td>\n      <td>6.850000</td>\n    </tr>\n    <tr>\n      <th>3.0</th>\n      <td>1.000000</td>\n      <td>38.053846</td>\n      <td>84.625000</td>\n      <td>3.153846</td>\n      <td>50.571429</td>\n      <td>12.371429</td>\n    </tr>\n  </tbody>\n</table>\n</div>"
     },
     "metadata": {},
     "execution_count": 12
    }
   ],
   "source": [
    "data.groupby(['surgery', 'outcome']).mean()"
   ]
  },
  {
   "cell_type": "code",
   "execution_count": 16,
   "metadata": {},
   "outputs": [
    {
     "output_type": "execute_result",
     "data": {
      "text/plain": [
       "          surgery        age  temperature       pulse        pain        cell  \\\n",
       "count  299.000000  299.00000   299.000000  299.000000  299.000000  299.000000   \n",
       "mean     1.397993    1.64214    38.167253   72.292556    2.922858   46.412892   \n",
       "std      0.490305    2.17730     0.656253   27.707862    0.919471   10.015793   \n",
       "min      1.000000    1.00000    35.400000   30.000000    1.000000   23.000000   \n",
       "25%      1.000000    1.00000    37.900000   48.500000    2.988235   39.000000   \n",
       "50%      1.000000    1.00000    38.187179   66.000000    3.000000   45.000000   \n",
       "75%      2.000000    1.00000    38.500000   88.183673    3.437500   50.909091   \n",
       "max      2.000000    9.00000    40.800000  184.000000    4.000000   75.000000   \n",
       "\n",
       "          protein     outcome  \n",
       "count  299.000000  299.000000  \n",
       "mean    24.193408    1.551839  \n",
       "std     26.503572    0.737187  \n",
       "min      3.300000    1.000000  \n",
       "25%      6.600000    1.000000  \n",
       "50%      7.500000    1.000000  \n",
       "75%     55.500000    2.000000  \n",
       "max     89.000000    3.000000  "
      ],
      "text/html": "<div>\n<style scoped>\n    .dataframe tbody tr th:only-of-type {\n        vertical-align: middle;\n    }\n\n    .dataframe tbody tr th {\n        vertical-align: top;\n    }\n\n    .dataframe thead th {\n        text-align: right;\n    }\n</style>\n<table border=\"1\" class=\"dataframe\">\n  <thead>\n    <tr style=\"text-align: right;\">\n      <th></th>\n      <th>surgery</th>\n      <th>age</th>\n      <th>temperature</th>\n      <th>pulse</th>\n      <th>pain</th>\n      <th>cell</th>\n      <th>protein</th>\n      <th>outcome</th>\n    </tr>\n  </thead>\n  <tbody>\n    <tr>\n      <th>count</th>\n      <td>299.000000</td>\n      <td>299.00000</td>\n      <td>299.000000</td>\n      <td>299.000000</td>\n      <td>299.000000</td>\n      <td>299.000000</td>\n      <td>299.000000</td>\n      <td>299.000000</td>\n    </tr>\n    <tr>\n      <th>mean</th>\n      <td>1.397993</td>\n      <td>1.64214</td>\n      <td>38.167253</td>\n      <td>72.292556</td>\n      <td>2.922858</td>\n      <td>46.412892</td>\n      <td>24.193408</td>\n      <td>1.551839</td>\n    </tr>\n    <tr>\n      <th>std</th>\n      <td>0.490305</td>\n      <td>2.17730</td>\n      <td>0.656253</td>\n      <td>27.707862</td>\n      <td>0.919471</td>\n      <td>10.015793</td>\n      <td>26.503572</td>\n      <td>0.737187</td>\n    </tr>\n    <tr>\n      <th>min</th>\n      <td>1.000000</td>\n      <td>1.00000</td>\n      <td>35.400000</td>\n      <td>30.000000</td>\n      <td>1.000000</td>\n      <td>23.000000</td>\n      <td>3.300000</td>\n      <td>1.000000</td>\n    </tr>\n    <tr>\n      <th>25%</th>\n      <td>1.000000</td>\n      <td>1.00000</td>\n      <td>37.900000</td>\n      <td>48.500000</td>\n      <td>2.988235</td>\n      <td>39.000000</td>\n      <td>6.600000</td>\n      <td>1.000000</td>\n    </tr>\n    <tr>\n      <th>50%</th>\n      <td>1.000000</td>\n      <td>1.00000</td>\n      <td>38.187179</td>\n      <td>66.000000</td>\n      <td>3.000000</td>\n      <td>45.000000</td>\n      <td>7.500000</td>\n      <td>1.000000</td>\n    </tr>\n    <tr>\n      <th>75%</th>\n      <td>2.000000</td>\n      <td>1.00000</td>\n      <td>38.500000</td>\n      <td>88.183673</td>\n      <td>3.437500</td>\n      <td>50.909091</td>\n      <td>55.500000</td>\n      <td>2.000000</td>\n    </tr>\n    <tr>\n      <th>max</th>\n      <td>2.000000</td>\n      <td>9.00000</td>\n      <td>40.800000</td>\n      <td>184.000000</td>\n      <td>4.000000</td>\n      <td>75.000000</td>\n      <td>89.000000</td>\n      <td>3.000000</td>\n    </tr>\n  </tbody>\n</table>\n</div>"
     },
     "metadata": {},
     "execution_count": 16
    }
   ],
   "source": [
    "\"\"\"Заполняем пропуски средним которое агрегируем по статусу операции и исходу лечения, строку в которой нету статуса операции и исхода мы удаляем\"\"\"\n",
    "data.fillna(data.groupby(['surgery', 'outcome']).transform('mean'), inplace=True)\n",
    "data.dropna(inplace=True)\n",
    "data.describe()"
   ]
  },
  {
   "cell_type": "code",
   "execution_count": 17,
   "metadata": {},
   "outputs": [
    {
     "output_type": "stream",
     "name": "stdout",
     "text": [
      "surgery        0\nage            0\ntemperature    0\npulse          0\npain           0\ncell           0\nprotein        0\noutcome        0\ndtype: int64\n"
     ]
    }
   ],
   "source": [
    "print(data.isna().sum())"
   ]
  }
 ]
}