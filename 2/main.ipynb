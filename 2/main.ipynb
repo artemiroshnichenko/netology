{
 "metadata": {
  "language_info": {
   "codemirror_mode": {
    "name": "ipython",
    "version": 3
   },
   "file_extension": ".py",
   "mimetype": "text/x-python",
   "name": "python",
   "nbconvert_exporter": "python",
   "pygments_lexer": "ipython3",
   "version": "3.9.1-final"
  },
  "orig_nbformat": 2,
  "kernelspec": {
   "name": "python3",
   "display_name": "Python 3.9.1 64-bit",
   "metadata": {
    "interpreter": {
     "hash": "64936719a33416ab8db1ab7af93f5ba087c2ec6c09c115f83899d75015472944"
    }
   }
  }
 },
 "nbformat": 4,
 "nbformat_minor": 2,
 "cells": [
  {
   "cell_type": "code",
   "execution_count": null,
   "metadata": {},
   "outputs": [],
   "source": [
    "text = \"text\"\n",
    "if len(text) % 2 == 0:\n",
    "    print(text[int(len(text)/2-1)] + text[int(len(text)/2)]) \n",
    "else:\n",
    "    print(text[int(len(text)/2)])"
   ]
  },
  {
   "cell_type": "code",
   "execution_count": 36,
   "metadata": {},
   "outputs": [
    {
     "output_type": "stream",
     "name": "stdout",
     "text": [
      "560\n"
     ]
    }
   ],
   "source": [
    "f = 1\n",
    "sum = 0\n",
    "while f:\n",
    "    x = int(input())\n",
    "    if x == 0:\n",
    "        f = 0\n",
    "    sum += x\n",
    "print(sum)"
   ]
  },
  {
   "cell_type": "code",
   "execution_count": 7,
   "metadata": {},
   "outputs": [
    {
     "output_type": "stream",
     "name": "stdout",
     "text": [
      "Alex и Emma\nArthur и Kate\nJohn и Kira\nPeter и Liza\nRichard и Trisha\n"
     ]
    }
   ],
   "source": [
    "boys = ['Peter', 'Alex', 'John', 'Arthur', 'Richard']\n",
    "girls = ['Kate', 'Liza', 'Kira', 'Emma', 'Trisha']\n",
    "if len(boys) != len(girls):\n",
    "    print(\"Внимание, кто-то может остаться без пары!\")\n",
    "else:\n",
    "    boys = sorted(boys)\n",
    "    girls = sorted(girls)\n",
    "    i = 0\n",
    "    while i < len(boys):\n",
    "        \n",
    "        print(boys[i] + ' и ' + girls[i])\n",
    "        i+= 1"
   ]
  },
  {
   "cell_type": "code",
   "execution_count": 52,
   "metadata": {},
   "outputs": [
    {
     "output_type": "stream",
     "name": "stdout",
     "text": [
      "Thailand 23.9\nGermany 13.8\nRussia 3.7\nPoland 12.0\n"
     ]
    }
   ],
   "source": [
    "def f2c(fah):\n",
    "    cel = 5.0*(fah - 32) / 9\n",
    "    return cel\n",
    "\n",
    "countries_temperature = [\n",
    "    ['Thailand', [75.2, 77, 78.8, 73.4, 68, 75.2, 77]],\n",
    "    ['Germany', [57.2, 55.4, 59, 59, 53.6]],\n",
    "    ['Russia', [35.6, 37.4, 39.2, 41, 42.8, 39.2, 35.6]],\n",
    "    ['Poland', [50, 50, 53.6, 57.2, 55.4, 55.4]]\n",
    "]\n",
    "for i in range(len(countries_temperature)):\n",
    "    s = 0\n",
    "    for j in range(len(countries_temperature[i][1])):\n",
    "        s = s + f2c(countries_temperature[i][1][j])\n",
    "    print(countries_temperature[i][0], round(s/(j+1),1))"
   ]
  },
  {
   "cell_type": "code",
   "execution_count": null,
   "metadata": {},
   "outputs": [],
   "source": []
  }
 ]
}