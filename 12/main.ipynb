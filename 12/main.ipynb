{
 "metadata": {
  "orig_nbformat": 2,
  "kernelspec": {
   "name": "python3",
   "display_name": "Python 3",
   "language": "python"
  }
 },
 "nbformat": 4,
 "nbformat_minor": 2,
 "cells": [
  {
   "cell_type": "code",
   "execution_count": 2,
   "metadata": {},
   "outputs": [
    {
     "output_type": "stream",
     "name": "stderr",
     "text": [
      "/home/odyssey/.local/lib/python3.9/site-packages/pandas/compat/__init__.py:97: UserWarning: Could not import the lzma module. Your installed Python is incomplete. Attempting to use lzma compression will result in a RuntimeError.\n  warnings.warn(msg)\n"
     ]
    }
   ],
   "source": [
    "import pandas as pd\n",
    "import re"
   ]
  },
  {
   "cell_type": "code",
   "execution_count": 3,
   "metadata": {},
   "outputs": [
    {
     "output_type": "execute_result",
     "data": {
      "text/plain": [
       "        timestamp    visit_id                                 url   region  \\\n",
       "0      1549980692  e3b0c44298  https://host.ru/3c19b4ef7371864fa3   Russia   \n",
       "1      1549980704  6e340b9cff  https://host.ru/c8d9213a31839f9a3a   Russia   \n",
       "2      1549980715  96a296d224  https://host.ru/b8b58337d272ee7b15   Russia   \n",
       "3      1549980725  709e80c884  https://host.ru/b8b58337d272ee7b15   Russia   \n",
       "4      1549980736  df3f619804  https://host.ru/b8b58337d272ee7b15   Russia   \n",
       "...           ...         ...                                 ...      ...   \n",
       "18933  1550094288  57e5ba8560  https://host.ru/c2382eb3d6afc8d0f3  Belarus   \n",
       "18934  1550094296  6f9389ec1b  https://host.ru/f1eb4601740d627ab0   Russia   \n",
       "18935  1550094308  e8cf2eb8e6  https://host.ru/a5dda93e70318570c0  Belarus   \n",
       "18936  1550094314  79530b9a67  https://host.ru/6fda01ec57f23abc9e   Russia   \n",
       "18937  1550094323  b3b634f824  https://host.ru/39fa884393666d45fc   Russia   \n",
       "\n",
       "          user_id traffic_source  \n",
       "0      b1613cc09f         yandex  \n",
       "1      4c3ec14bee         direct  \n",
       "2      a8c40697fb         yandex  \n",
       "3      521ac1d6a0         yandex  \n",
       "4      d7323c571c         yandex  \n",
       "...           ...            ...  \n",
       "18933  98b19810d0           paid  \n",
       "18934  32ebb20c13           paid  \n",
       "18935  b85baa8c73         yandex  \n",
       "18936  e154b06121           paid  \n",
       "18937  7d27a58fb8          email  \n",
       "\n",
       "[18938 rows x 6 columns]"
      ],
      "text/html": "<div>\n<style scoped>\n    .dataframe tbody tr th:only-of-type {\n        vertical-align: middle;\n    }\n\n    .dataframe tbody tr th {\n        vertical-align: top;\n    }\n\n    .dataframe thead th {\n        text-align: right;\n    }\n</style>\n<table border=\"1\" class=\"dataframe\">\n  <thead>\n    <tr style=\"text-align: right;\">\n      <th></th>\n      <th>timestamp</th>\n      <th>visit_id</th>\n      <th>url</th>\n      <th>region</th>\n      <th>user_id</th>\n      <th>traffic_source</th>\n    </tr>\n  </thead>\n  <tbody>\n    <tr>\n      <th>0</th>\n      <td>1549980692</td>\n      <td>e3b0c44298</td>\n      <td>https://host.ru/3c19b4ef7371864fa3</td>\n      <td>Russia</td>\n      <td>b1613cc09f</td>\n      <td>yandex</td>\n    </tr>\n    <tr>\n      <th>1</th>\n      <td>1549980704</td>\n      <td>6e340b9cff</td>\n      <td>https://host.ru/c8d9213a31839f9a3a</td>\n      <td>Russia</td>\n      <td>4c3ec14bee</td>\n      <td>direct</td>\n    </tr>\n    <tr>\n      <th>2</th>\n      <td>1549980715</td>\n      <td>96a296d224</td>\n      <td>https://host.ru/b8b58337d272ee7b15</td>\n      <td>Russia</td>\n      <td>a8c40697fb</td>\n      <td>yandex</td>\n    </tr>\n    <tr>\n      <th>3</th>\n      <td>1549980725</td>\n      <td>709e80c884</td>\n      <td>https://host.ru/b8b58337d272ee7b15</td>\n      <td>Russia</td>\n      <td>521ac1d6a0</td>\n      <td>yandex</td>\n    </tr>\n    <tr>\n      <th>4</th>\n      <td>1549980736</td>\n      <td>df3f619804</td>\n      <td>https://host.ru/b8b58337d272ee7b15</td>\n      <td>Russia</td>\n      <td>d7323c571c</td>\n      <td>yandex</td>\n    </tr>\n    <tr>\n      <th>...</th>\n      <td>...</td>\n      <td>...</td>\n      <td>...</td>\n      <td>...</td>\n      <td>...</td>\n      <td>...</td>\n    </tr>\n    <tr>\n      <th>18933</th>\n      <td>1550094288</td>\n      <td>57e5ba8560</td>\n      <td>https://host.ru/c2382eb3d6afc8d0f3</td>\n      <td>Belarus</td>\n      <td>98b19810d0</td>\n      <td>paid</td>\n    </tr>\n    <tr>\n      <th>18934</th>\n      <td>1550094296</td>\n      <td>6f9389ec1b</td>\n      <td>https://host.ru/f1eb4601740d627ab0</td>\n      <td>Russia</td>\n      <td>32ebb20c13</td>\n      <td>paid</td>\n    </tr>\n    <tr>\n      <th>18935</th>\n      <td>1550094308</td>\n      <td>e8cf2eb8e6</td>\n      <td>https://host.ru/a5dda93e70318570c0</td>\n      <td>Belarus</td>\n      <td>b85baa8c73</td>\n      <td>yandex</td>\n    </tr>\n    <tr>\n      <th>18936</th>\n      <td>1550094314</td>\n      <td>79530b9a67</td>\n      <td>https://host.ru/6fda01ec57f23abc9e</td>\n      <td>Russia</td>\n      <td>e154b06121</td>\n      <td>paid</td>\n    </tr>\n    <tr>\n      <th>18937</th>\n      <td>1550094323</td>\n      <td>b3b634f824</td>\n      <td>https://host.ru/39fa884393666d45fc</td>\n      <td>Russia</td>\n      <td>7d27a58fb8</td>\n      <td>email</td>\n    </tr>\n  </tbody>\n</table>\n<p>18938 rows × 6 columns</p>\n</div>"
     },
     "metadata": {},
     "execution_count": 3
    }
   ],
   "source": [
    "log = pd.read_csv('data/visit_log.csv', sep=';')\n",
    "log"
   ]
  },
  {
   "cell_type": "code",
   "execution_count": 4,
   "metadata": {},
   "outputs": [],
   "source": [
    "def chan(data):\n",
    "    if (data['traffic_source'] == 'yandex') | (data['traffic_source'] == 'google'):\n",
    "        return 'organic'\n",
    "    elif ((data['traffic_source'] == 'paid') | (data['traffic_source'] == 'email')) & (data['region'] == 'Russia'):\n",
    "        return 'ad'\n",
    "    elif ((data['traffic_source'] == 'paid') | (data['traffic_source'] == 'email')\n",
    "    ) & (data['region'] != 'Russia'):\n",
    "        return 'other'\n",
    "    return data['traffic_source']"
   ]
  },
  {
   "cell_type": "code",
   "execution_count": 5,
   "metadata": {},
   "outputs": [
    {
     "output_type": "execute_result",
     "data": {
      "text/plain": [
       "        timestamp    visit_id                                 url   region  \\\n",
       "0      1549980692  e3b0c44298  https://host.ru/3c19b4ef7371864fa3   Russia   \n",
       "1      1549980704  6e340b9cff  https://host.ru/c8d9213a31839f9a3a   Russia   \n",
       "2      1549980715  96a296d224  https://host.ru/b8b58337d272ee7b15   Russia   \n",
       "3      1549980725  709e80c884  https://host.ru/b8b58337d272ee7b15   Russia   \n",
       "4      1549980736  df3f619804  https://host.ru/b8b58337d272ee7b15   Russia   \n",
       "...           ...         ...                                 ...      ...   \n",
       "18933  1550094288  57e5ba8560  https://host.ru/c2382eb3d6afc8d0f3  Belarus   \n",
       "18934  1550094296  6f9389ec1b  https://host.ru/f1eb4601740d627ab0   Russia   \n",
       "18935  1550094308  e8cf2eb8e6  https://host.ru/a5dda93e70318570c0  Belarus   \n",
       "18936  1550094314  79530b9a67  https://host.ru/6fda01ec57f23abc9e   Russia   \n",
       "18937  1550094323  b3b634f824  https://host.ru/39fa884393666d45fc   Russia   \n",
       "\n",
       "          user_id traffic_source  \n",
       "0      b1613cc09f        organic  \n",
       "1      4c3ec14bee         direct  \n",
       "2      a8c40697fb        organic  \n",
       "3      521ac1d6a0        organic  \n",
       "4      d7323c571c        organic  \n",
       "...           ...            ...  \n",
       "18933  98b19810d0          other  \n",
       "18934  32ebb20c13             ad  \n",
       "18935  b85baa8c73        organic  \n",
       "18936  e154b06121             ad  \n",
       "18937  7d27a58fb8             ad  \n",
       "\n",
       "[18938 rows x 6 columns]"
      ],
      "text/html": "<div>\n<style scoped>\n    .dataframe tbody tr th:only-of-type {\n        vertical-align: middle;\n    }\n\n    .dataframe tbody tr th {\n        vertical-align: top;\n    }\n\n    .dataframe thead th {\n        text-align: right;\n    }\n</style>\n<table border=\"1\" class=\"dataframe\">\n  <thead>\n    <tr style=\"text-align: right;\">\n      <th></th>\n      <th>timestamp</th>\n      <th>visit_id</th>\n      <th>url</th>\n      <th>region</th>\n      <th>user_id</th>\n      <th>traffic_source</th>\n    </tr>\n  </thead>\n  <tbody>\n    <tr>\n      <th>0</th>\n      <td>1549980692</td>\n      <td>e3b0c44298</td>\n      <td>https://host.ru/3c19b4ef7371864fa3</td>\n      <td>Russia</td>\n      <td>b1613cc09f</td>\n      <td>organic</td>\n    </tr>\n    <tr>\n      <th>1</th>\n      <td>1549980704</td>\n      <td>6e340b9cff</td>\n      <td>https://host.ru/c8d9213a31839f9a3a</td>\n      <td>Russia</td>\n      <td>4c3ec14bee</td>\n      <td>direct</td>\n    </tr>\n    <tr>\n      <th>2</th>\n      <td>1549980715</td>\n      <td>96a296d224</td>\n      <td>https://host.ru/b8b58337d272ee7b15</td>\n      <td>Russia</td>\n      <td>a8c40697fb</td>\n      <td>organic</td>\n    </tr>\n    <tr>\n      <th>3</th>\n      <td>1549980725</td>\n      <td>709e80c884</td>\n      <td>https://host.ru/b8b58337d272ee7b15</td>\n      <td>Russia</td>\n      <td>521ac1d6a0</td>\n      <td>organic</td>\n    </tr>\n    <tr>\n      <th>4</th>\n      <td>1549980736</td>\n      <td>df3f619804</td>\n      <td>https://host.ru/b8b58337d272ee7b15</td>\n      <td>Russia</td>\n      <td>d7323c571c</td>\n      <td>organic</td>\n    </tr>\n    <tr>\n      <th>...</th>\n      <td>...</td>\n      <td>...</td>\n      <td>...</td>\n      <td>...</td>\n      <td>...</td>\n      <td>...</td>\n    </tr>\n    <tr>\n      <th>18933</th>\n      <td>1550094288</td>\n      <td>57e5ba8560</td>\n      <td>https://host.ru/c2382eb3d6afc8d0f3</td>\n      <td>Belarus</td>\n      <td>98b19810d0</td>\n      <td>other</td>\n    </tr>\n    <tr>\n      <th>18934</th>\n      <td>1550094296</td>\n      <td>6f9389ec1b</td>\n      <td>https://host.ru/f1eb4601740d627ab0</td>\n      <td>Russia</td>\n      <td>32ebb20c13</td>\n      <td>ad</td>\n    </tr>\n    <tr>\n      <th>18935</th>\n      <td>1550094308</td>\n      <td>e8cf2eb8e6</td>\n      <td>https://host.ru/a5dda93e70318570c0</td>\n      <td>Belarus</td>\n      <td>b85baa8c73</td>\n      <td>organic</td>\n    </tr>\n    <tr>\n      <th>18936</th>\n      <td>1550094314</td>\n      <td>79530b9a67</td>\n      <td>https://host.ru/6fda01ec57f23abc9e</td>\n      <td>Russia</td>\n      <td>e154b06121</td>\n      <td>ad</td>\n    </tr>\n    <tr>\n      <th>18937</th>\n      <td>1550094323</td>\n      <td>b3b634f824</td>\n      <td>https://host.ru/39fa884393666d45fc</td>\n      <td>Russia</td>\n      <td>7d27a58fb8</td>\n      <td>ad</td>\n    </tr>\n  </tbody>\n</table>\n<p>18938 rows × 6 columns</p>\n</div>"
     },
     "metadata": {},
     "execution_count": 5
    }
   ],
   "source": [
    "log['traffic_source'] = log.apply(chan, axis=1)\n",
    "log"
   ]
  },
  {
   "cell_type": "code",
   "execution_count": 6,
   "metadata": {},
   "outputs": [
    {
     "output_type": "execute_result",
     "data": {
      "text/plain": [
       "                                                  url\n",
       "0                                             /world/\n",
       "1                                            /latest/\n",
       "2                                       /?updated=top\n",
       "3   /politics/36188461-s-marta-zhizn-rossiyan-susc...\n",
       "4   /world/36007585-tramp-pridumal-kak-reshit-ukra...\n",
       "..                                                ...\n",
       "88  /cis/35984145-kreml-prokommentiroval-soobschen...\n",
       "89  /video/36071019-olimpiyskie-obekty-rio-prevrat...\n",
       "90  /science/36151301-nazvano-posledstvie-zloupotr...\n",
       "91  /incidents/36027330-vospitatelnitsu-zatravili-...\n",
       "92  /world/36103095-dominikanskih-zhurnalistov-ubi...\n",
       "\n",
       "[93 rows x 1 columns]"
      ],
      "text/html": "<div>\n<style scoped>\n    .dataframe tbody tr th:only-of-type {\n        vertical-align: middle;\n    }\n\n    .dataframe tbody tr th {\n        vertical-align: top;\n    }\n\n    .dataframe thead th {\n        text-align: right;\n    }\n</style>\n<table border=\"1\" class=\"dataframe\">\n  <thead>\n    <tr style=\"text-align: right;\">\n      <th></th>\n      <th>url</th>\n    </tr>\n  </thead>\n  <tbody>\n    <tr>\n      <th>0</th>\n      <td>/world/</td>\n    </tr>\n    <tr>\n      <th>1</th>\n      <td>/latest/</td>\n    </tr>\n    <tr>\n      <th>2</th>\n      <td>/?updated=top</td>\n    </tr>\n    <tr>\n      <th>3</th>\n      <td>/politics/36188461-s-marta-zhizn-rossiyan-susc...</td>\n    </tr>\n    <tr>\n      <th>4</th>\n      <td>/world/36007585-tramp-pridumal-kak-reshit-ukra...</td>\n    </tr>\n    <tr>\n      <th>...</th>\n      <td>...</td>\n    </tr>\n    <tr>\n      <th>88</th>\n      <td>/cis/35984145-kreml-prokommentiroval-soobschen...</td>\n    </tr>\n    <tr>\n      <th>89</th>\n      <td>/video/36071019-olimpiyskie-obekty-rio-prevrat...</td>\n    </tr>\n    <tr>\n      <th>90</th>\n      <td>/science/36151301-nazvano-posledstvie-zloupotr...</td>\n    </tr>\n    <tr>\n      <th>91</th>\n      <td>/incidents/36027330-vospitatelnitsu-zatravili-...</td>\n    </tr>\n    <tr>\n      <th>92</th>\n      <td>/world/36103095-dominikanskih-zhurnalistov-ubi...</td>\n    </tr>\n  </tbody>\n</table>\n<p>93 rows × 1 columns</p>\n</div>"
     },
     "metadata": {},
     "execution_count": 6
    }
   ],
   "source": [
    "urls = pd.read_csv('data/URLs.txt')\n",
    "urls"
   ]
  },
  {
   "cell_type": "code",
   "execution_count": 7,
   "metadata": {},
   "outputs": [
    {
     "output_type": "execute_result",
     "data": {
      "text/plain": [
       "                                                  url\n",
       "3   /politics/36188461-s-marta-zhizn-rossiyan-susc...\n",
       "4   /world/36007585-tramp-pridumal-kak-reshit-ukra...\n",
       "5   /science/36157853-nasa-sobiraet-ekstrennuyu-pr...\n",
       "6   /video/36001498-poyavilis-pervye-podrobnosti-g...\n",
       "7   /world/36007585-tramp-pridumal-kak-reshit-ukra...\n",
       "..                                                ...\n",
       "88  /cis/35984145-kreml-prokommentiroval-soobschen...\n",
       "89  /video/36071019-olimpiyskie-obekty-rio-prevrat...\n",
       "90  /science/36151301-nazvano-posledstvie-zloupotr...\n",
       "91  /incidents/36027330-vospitatelnitsu-zatravili-...\n",
       "92  /world/36103095-dominikanskih-zhurnalistov-ubi...\n",
       "\n",
       "[84 rows x 1 columns]"
      ],
      "text/html": "<div>\n<style scoped>\n    .dataframe tbody tr th:only-of-type {\n        vertical-align: middle;\n    }\n\n    .dataframe tbody tr th {\n        vertical-align: top;\n    }\n\n    .dataframe thead th {\n        text-align: right;\n    }\n</style>\n<table border=\"1\" class=\"dataframe\">\n  <thead>\n    <tr style=\"text-align: right;\">\n      <th></th>\n      <th>url</th>\n    </tr>\n  </thead>\n  <tbody>\n    <tr>\n      <th>3</th>\n      <td>/politics/36188461-s-marta-zhizn-rossiyan-susc...</td>\n    </tr>\n    <tr>\n      <th>4</th>\n      <td>/world/36007585-tramp-pridumal-kak-reshit-ukra...</td>\n    </tr>\n    <tr>\n      <th>5</th>\n      <td>/science/36157853-nasa-sobiraet-ekstrennuyu-pr...</td>\n    </tr>\n    <tr>\n      <th>6</th>\n      <td>/video/36001498-poyavilis-pervye-podrobnosti-g...</td>\n    </tr>\n    <tr>\n      <th>7</th>\n      <td>/world/36007585-tramp-pridumal-kak-reshit-ukra...</td>\n    </tr>\n    <tr>\n      <th>...</th>\n      <td>...</td>\n    </tr>\n    <tr>\n      <th>88</th>\n      <td>/cis/35984145-kreml-prokommentiroval-soobschen...</td>\n    </tr>\n    <tr>\n      <th>89</th>\n      <td>/video/36071019-olimpiyskie-obekty-rio-prevrat...</td>\n    </tr>\n    <tr>\n      <th>90</th>\n      <td>/science/36151301-nazvano-posledstvie-zloupotr...</td>\n    </tr>\n    <tr>\n      <th>91</th>\n      <td>/incidents/36027330-vospitatelnitsu-zatravili-...</td>\n    </tr>\n    <tr>\n      <th>92</th>\n      <td>/world/36103095-dominikanskih-zhurnalistov-ubi...</td>\n    </tr>\n  </tbody>\n</table>\n<p>84 rows × 1 columns</p>\n</div>"
     },
     "metadata": {},
     "execution_count": 7
    }
   ],
   "source": [
    "urls[urls.url.str.contains(r'/\\d{8}-')]"
   ]
  },
  {
   "cell_type": "code",
   "execution_count": 8,
   "metadata": {},
   "outputs": [
    {
     "output_type": "execute_result",
     "data": {
      "text/plain": [
       "        userId  movieId  rating   timestamp\n",
       "0            1       31     2.5  1260759144\n",
       "1            1     1029     3.0  1260759179\n",
       "2            1     1061     3.0  1260759182\n",
       "3            1     1129     2.0  1260759185\n",
       "4            1     1172     4.0  1260759205\n",
       "...        ...      ...     ...         ...\n",
       "99999      671     6268     2.5  1065579370\n",
       "100000     671     6269     4.0  1065149201\n",
       "100001     671     6365     4.0  1070940363\n",
       "100002     671     6385     2.5  1070979663\n",
       "100003     671     6565     3.5  1074784724\n",
       "\n",
       "[100004 rows x 4 columns]"
      ],
      "text/html": "<div>\n<style scoped>\n    .dataframe tbody tr th:only-of-type {\n        vertical-align: middle;\n    }\n\n    .dataframe tbody tr th {\n        vertical-align: top;\n    }\n\n    .dataframe thead th {\n        text-align: right;\n    }\n</style>\n<table border=\"1\" class=\"dataframe\">\n  <thead>\n    <tr style=\"text-align: right;\">\n      <th></th>\n      <th>userId</th>\n      <th>movieId</th>\n      <th>rating</th>\n      <th>timestamp</th>\n    </tr>\n  </thead>\n  <tbody>\n    <tr>\n      <th>0</th>\n      <td>1</td>\n      <td>31</td>\n      <td>2.5</td>\n      <td>1260759144</td>\n    </tr>\n    <tr>\n      <th>1</th>\n      <td>1</td>\n      <td>1029</td>\n      <td>3.0</td>\n      <td>1260759179</td>\n    </tr>\n    <tr>\n      <th>2</th>\n      <td>1</td>\n      <td>1061</td>\n      <td>3.0</td>\n      <td>1260759182</td>\n    </tr>\n    <tr>\n      <th>3</th>\n      <td>1</td>\n      <td>1129</td>\n      <td>2.0</td>\n      <td>1260759185</td>\n    </tr>\n    <tr>\n      <th>4</th>\n      <td>1</td>\n      <td>1172</td>\n      <td>4.0</td>\n      <td>1260759205</td>\n    </tr>\n    <tr>\n      <th>...</th>\n      <td>...</td>\n      <td>...</td>\n      <td>...</td>\n      <td>...</td>\n    </tr>\n    <tr>\n      <th>99999</th>\n      <td>671</td>\n      <td>6268</td>\n      <td>2.5</td>\n      <td>1065579370</td>\n    </tr>\n    <tr>\n      <th>100000</th>\n      <td>671</td>\n      <td>6269</td>\n      <td>4.0</td>\n      <td>1065149201</td>\n    </tr>\n    <tr>\n      <th>100001</th>\n      <td>671</td>\n      <td>6365</td>\n      <td>4.0</td>\n      <td>1070940363</td>\n    </tr>\n    <tr>\n      <th>100002</th>\n      <td>671</td>\n      <td>6385</td>\n      <td>2.5</td>\n      <td>1070979663</td>\n    </tr>\n    <tr>\n      <th>100003</th>\n      <td>671</td>\n      <td>6565</td>\n      <td>3.5</td>\n      <td>1074784724</td>\n    </tr>\n  </tbody>\n</table>\n<p>100004 rows × 4 columns</p>\n</div>"
     },
     "metadata": {},
     "execution_count": 8
    }
   ],
   "source": [
    "ratings = pd.read_csv('data/ml-latest-small/ratings.csv')\n",
    "ratings"
   ]
  },
  {
   "cell_type": "code",
   "execution_count": 9,
   "metadata": {},
   "outputs": [
    {
     "output_type": "execute_result",
     "data": {
      "text/plain": [
       "userId\n",
       "1      False\n",
       "2      False\n",
       "3      False\n",
       "4       True\n",
       "5       True\n",
       "       ...  \n",
       "667    False\n",
       "668    False\n",
       "669    False\n",
       "670    False\n",
       "671     True\n",
       "Name: timestamp, Length: 671, dtype: bool"
      ]
     },
     "metadata": {},
     "execution_count": 9
    }
   ],
   "source": [
    "ratings.groupby('userId').count()['timestamp'] >= 100"
   ]
  },
  {
   "cell_type": "code",
   "execution_count": 60,
   "metadata": {},
   "outputs": [],
   "source": [
    "x  = ratings.groupby('userId').agg({'timestamp': ['min', 'max', 'count']})"
   ]
  },
  {
   "cell_type": "code",
   "execution_count": 69,
   "metadata": {},
   "outputs": [
    {
     "output_type": "execute_result",
     "data": {
      "text/plain": [
       "39331748.56653992"
      ]
     },
     "metadata": {},
     "execution_count": 69
    }
   ],
   "source": [
    "def aero(data):\n",
    "    if data['timestamp']['count'] >= 100:\n",
    "        sum = data['timestamp']['max'] - data['timestamp']['min']\n",
    "        return sum\n",
    "x.apply(aero, axis=1).mean()"
   ]
  },
  {
   "cell_type": "code",
   "execution_count": 11,
   "metadata": {},
   "outputs": [],
   "source": [
    "rzd = pd.DataFrame(\n",
    "    {\n",
    "        'client_id': [111, 112, 113, 114, 115],\n",
    "        'rzd_revenue': [1093, 2810, 10283, 5774, 981]\n",
    "    }\n",
    ")\n",
    "\n",
    "auto = pd.DataFrame(\n",
    "    {\n",
    "        'client_id': [113, 114, 115, 116, 117],\n",
    "        'auto_revenue': [57483, 83, 912, 4834, 98]\n",
    "    }\n",
    ")\n",
    "\n",
    "air = pd.DataFrame(\n",
    "    {\n",
    "        'client_id': [115, 116, 117, 118],\n",
    "        'air_revenue': [81, 4, 13, 173]\n",
    "    }\n",
    ")\n",
    "\n",
    "client_base = pd.DataFrame(\n",
    "    {\n",
    "        'client_id': [111, 112, 113, 114, 115, 116, 117, 118],\n",
    "        'address': ['Комсомольская 4', 'Энтузиастов 8а', 'Левобережная 1а', 'Мира 14', 'ЗЖБИиДК 1', \n",
    "                    'Строителей 18', 'Панфиловская 33', 'Мастеркова 4']\n",
    "    }\n",
    ")"
   ]
  },
  {
   "cell_type": "code",
   "execution_count": 25,
   "metadata": {},
   "outputs": [
    {
     "output_type": "execute_result",
     "data": {
      "text/plain": [
       "   client_id  rzd_revenue  auto_revenue  air_revenue\n",
       "0        111       1093.0           NaN          NaN\n",
       "1        112       2810.0           NaN          NaN\n",
       "2        113      10283.0       57483.0          NaN\n",
       "3        114       5774.0          83.0          NaN\n",
       "4        115        981.0         912.0         81.0\n",
       "5        116          NaN        4834.0          4.0\n",
       "6        117          NaN          98.0         13.0\n",
       "7        118          NaN           NaN        173.0"
      ],
      "text/html": "<div>\n<style scoped>\n    .dataframe tbody tr th:only-of-type {\n        vertical-align: middle;\n    }\n\n    .dataframe tbody tr th {\n        vertical-align: top;\n    }\n\n    .dataframe thead th {\n        text-align: right;\n    }\n</style>\n<table border=\"1\" class=\"dataframe\">\n  <thead>\n    <tr style=\"text-align: right;\">\n      <th></th>\n      <th>client_id</th>\n      <th>rzd_revenue</th>\n      <th>auto_revenue</th>\n      <th>air_revenue</th>\n    </tr>\n  </thead>\n  <tbody>\n    <tr>\n      <th>0</th>\n      <td>111</td>\n      <td>1093.0</td>\n      <td>NaN</td>\n      <td>NaN</td>\n    </tr>\n    <tr>\n      <th>1</th>\n      <td>112</td>\n      <td>2810.0</td>\n      <td>NaN</td>\n      <td>NaN</td>\n    </tr>\n    <tr>\n      <th>2</th>\n      <td>113</td>\n      <td>10283.0</td>\n      <td>57483.0</td>\n      <td>NaN</td>\n    </tr>\n    <tr>\n      <th>3</th>\n      <td>114</td>\n      <td>5774.0</td>\n      <td>83.0</td>\n      <td>NaN</td>\n    </tr>\n    <tr>\n      <th>4</th>\n      <td>115</td>\n      <td>981.0</td>\n      <td>912.0</td>\n      <td>81.0</td>\n    </tr>\n    <tr>\n      <th>5</th>\n      <td>116</td>\n      <td>NaN</td>\n      <td>4834.0</td>\n      <td>4.0</td>\n    </tr>\n    <tr>\n      <th>6</th>\n      <td>117</td>\n      <td>NaN</td>\n      <td>98.0</td>\n      <td>13.0</td>\n    </tr>\n    <tr>\n      <th>7</th>\n      <td>118</td>\n      <td>NaN</td>\n      <td>NaN</td>\n      <td>173.0</td>\n    </tr>\n  </tbody>\n</table>\n</div>"
     },
     "metadata": {},
     "execution_count": 25
    }
   ],
   "source": [
    "pd.merge(pd.merge(rzd, auto, on=['client_id'], how='outer'), air, on=['client_id'], how='outer')"
   ]
  },
  {
   "cell_type": "code",
   "execution_count": 24,
   "metadata": {},
   "outputs": [
    {
     "output_type": "execute_result",
     "data": {
      "text/plain": [
       "   client_id  rzd_revenue  auto_revenue  air_revenue          address\n",
       "0        111       1093.0           NaN          NaN  Комсомольская 4\n",
       "1        112       2810.0           NaN          NaN   Энтузиастов 8а\n",
       "2        113      10283.0       57483.0          NaN  Левобережная 1а\n",
       "3        114       5774.0          83.0          NaN          Мира 14\n",
       "4        115        981.0         912.0         81.0        ЗЖБИиДК 1\n",
       "5        116          NaN        4834.0          4.0    Строителей 18\n",
       "6        117          NaN          98.0         13.0  Панфиловская 33\n",
       "7        118          NaN           NaN        173.0     Мастеркова 4"
      ],
      "text/html": "<div>\n<style scoped>\n    .dataframe tbody tr th:only-of-type {\n        vertical-align: middle;\n    }\n\n    .dataframe tbody tr th {\n        vertical-align: top;\n    }\n\n    .dataframe thead th {\n        text-align: right;\n    }\n</style>\n<table border=\"1\" class=\"dataframe\">\n  <thead>\n    <tr style=\"text-align: right;\">\n      <th></th>\n      <th>client_id</th>\n      <th>rzd_revenue</th>\n      <th>auto_revenue</th>\n      <th>air_revenue</th>\n      <th>address</th>\n    </tr>\n  </thead>\n  <tbody>\n    <tr>\n      <th>0</th>\n      <td>111</td>\n      <td>1093.0</td>\n      <td>NaN</td>\n      <td>NaN</td>\n      <td>Комсомольская 4</td>\n    </tr>\n    <tr>\n      <th>1</th>\n      <td>112</td>\n      <td>2810.0</td>\n      <td>NaN</td>\n      <td>NaN</td>\n      <td>Энтузиастов 8а</td>\n    </tr>\n    <tr>\n      <th>2</th>\n      <td>113</td>\n      <td>10283.0</td>\n      <td>57483.0</td>\n      <td>NaN</td>\n      <td>Левобережная 1а</td>\n    </tr>\n    <tr>\n      <th>3</th>\n      <td>114</td>\n      <td>5774.0</td>\n      <td>83.0</td>\n      <td>NaN</td>\n      <td>Мира 14</td>\n    </tr>\n    <tr>\n      <th>4</th>\n      <td>115</td>\n      <td>981.0</td>\n      <td>912.0</td>\n      <td>81.0</td>\n      <td>ЗЖБИиДК 1</td>\n    </tr>\n    <tr>\n      <th>5</th>\n      <td>116</td>\n      <td>NaN</td>\n      <td>4834.0</td>\n      <td>4.0</td>\n      <td>Строителей 18</td>\n    </tr>\n    <tr>\n      <th>6</th>\n      <td>117</td>\n      <td>NaN</td>\n      <td>98.0</td>\n      <td>13.0</td>\n      <td>Панфиловская 33</td>\n    </tr>\n    <tr>\n      <th>7</th>\n      <td>118</td>\n      <td>NaN</td>\n      <td>NaN</td>\n      <td>173.0</td>\n      <td>Мастеркова 4</td>\n    </tr>\n  </tbody>\n</table>\n</div>"
     },
     "metadata": {},
     "execution_count": 24
    }
   ],
   "source": [
    "pd.merge(pd.merge(pd.merge(rzd, auto, on=['client_id'], how='outer'), air, on=['client_id'], how='outer'), client_base, on=['client_id'], how='outer')\n"
   ]
  }
 ]
}